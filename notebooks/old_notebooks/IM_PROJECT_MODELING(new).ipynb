{
 "cells": [
  {
   "cell_type": "markdown",
   "metadata": {},
   "source": [
    "# Information management\n",
    "## word2vec을 이용한 기억속 영화 찾기(doc2vec)\n",
    "## 1. Read Data"
   ]
  },
  {
   "cell_type": "code",
   "execution_count": 1,
   "metadata": {},
   "outputs": [
    {
     "name": "stderr",
     "output_type": "stream",
     "text": [
      "d:\\anaconda3\\lib\\site-packages\\gensim\\utils.py:862: UserWarning: detected Windows; aliasing chunkize to chunkize_serial\n",
      "  warnings.warn(\"detected Windows; aliasing chunkize to chunkize_serial\")\n"
     ]
    }
   ],
   "source": [
    "import numpy as np\n",
    "import pandas as pd\n",
    "import os, re\n",
    "from konlpy.tag import Twitter\n",
    "from gensim.models.doc2vec import LabeledSentence, Doc2Vec\n",
    "from sklearn.model_selection import train_test_split\n",
    "import matplotlib.pyplot as plt\n",
    "\n",
    "#from konlpy.utils import pprint\n",
    "#from gensim.models import Word2Vec\n",
    "#from sklearn.feature_extraction.text import TfidfVectorizer"
   ]
  },
  {
   "cell_type": "code",
   "execution_count": 2,
   "metadata": {
    "scrolled": false
   },
   "outputs": [
    {
     "data": {
      "text/plain": [
       "(38614, 9)"
      ]
     },
     "execution_count": 2,
     "metadata": {},
     "output_type": "execute_result"
    }
   ],
   "source": [
    "# change directory\n",
    "os.chdir('D:/UNIST/17-2학기 자료/IM')\n",
    "# read data\n",
    "df=pd.read_csv('formodeling.csv',encoding='cp949')\n",
    "del df['Unnamed: 0.1']\n",
    "del df['Unnamed: 0']\n",
    "df.shape"
   ]
  },
  {
   "cell_type": "markdown",
   "metadata": {},
   "source": [
    "## 1-1. Train & Test Set split"
   ]
  },
  {
   "cell_type": "code",
   "execution_count": 3,
   "metadata": {
    "scrolled": true
   },
   "outputs": [
    {
     "name": "stdout",
     "output_type": "stream",
     "text": [
      "3788\n",
      "2720\n",
      "(30891, 9)\n",
      "(7723, 9)\n"
     ]
    }
   ],
   "source": [
    "# split train test data (영화별 비율 유지)\n",
    "train,test = train_test_split(df, random_state=42, train_size=0.8, test_size=0.2, stratify=df.answer)\n",
    "\n",
    "print(len(train.answer.value_counts().index))\n",
    "print(len(test.answer.value_counts().index))\n",
    "print(train.shape)\n",
    "print(test.shape)"
   ]
  },
  {
   "cell_type": "code",
   "execution_count": 16,
   "metadata": {},
   "outputs": [
    {
     "data": {
      "text/html": [
       "<div>\n",
       "<style>\n",
       "    .dataframe thead tr:only-child th {\n",
       "        text-align: right;\n",
       "    }\n",
       "\n",
       "    .dataframe thead th {\n",
       "        text-align: left;\n",
       "    }\n",
       "\n",
       "    .dataframe tbody tr th {\n",
       "        vertical-align: top;\n",
       "    }\n",
       "</style>\n",
       "<table border=\"1\" class=\"dataframe\">\n",
       "  <thead>\n",
       "    <tr style=\"text-align: right;\">\n",
       "      <th></th>\n",
       "      <th>answer</th>\n",
       "      <th>q_gen</th>\n",
       "      <th>question</th>\n",
       "      <th>synopsis</th>\n",
       "      <th>time</th>\n",
       "      <th>len_question</th>\n",
       "      <th>len_answer</th>\n",
       "      <th>count</th>\n",
       "      <th>new_index</th>\n",
       "    </tr>\n",
       "  </thead>\n",
       "  <tbody>\n",
       "    <tr>\n",
       "      <th>18817</th>\n",
       "      <td>여자의 이별</td>\n",
       "      <td>없음</td>\n",
       "      <td>내공 50드립니다.\\r\\r\\r\\n\\r\\r\\r\\n옛날 영화이며(아마 1980년대 90...</td>\n",
       "      <td>셜리 발렌타인(Shirley Valentine-Bradshaw: 폴린 콜린스 분)의...</td>\n",
       "      <td>2015.06.09. 21:16</td>\n",
       "      <td>458</td>\n",
       "      <td>6</td>\n",
       "      <td>2</td>\n",
       "      <td>1344</td>\n",
       "    </tr>\n",
       "    <tr>\n",
       "      <th>34093</th>\n",
       "      <td>미래를 걷는 소녀</td>\n",
       "      <td>로맨스, 멜로 영화</td>\n",
       "      <td>일본영화인데 여주?가 어떤건물계단에서 핸드폰을 실수로 떨어트렸는데 그게 옛날?로 가...</td>\n",
       "      <td>SF작가를 꿈꾸는 평범한 여고생 미호는 어느날 빌딩 계단을 내려가던 중, 지진이 일...</td>\n",
       "      <td>2016.04.03. 16:21</td>\n",
       "      <td>144</td>\n",
       "      <td>9</td>\n",
       "      <td>75</td>\n",
       "      <td>501</td>\n",
       "    </tr>\n",
       "    <tr>\n",
       "      <th>34292</th>\n",
       "      <td>체인드</td>\n",
       "      <td>없음</td>\n",
       "      <td>줄거리는 연쇄살인마가 그 엄마는 죽이고 아이를 데려다가 키우며 자신의 살인을 돕게한...</td>\n",
       "      <td>9살의 어린 소년 팀은 우연히 엄마와 탄 택시에서 끔찍한 변을 당하고 만다. 외딴 ...</td>\n",
       "      <td>2016.02.16. 15:37</td>\n",
       "      <td>86</td>\n",
       "      <td>3</td>\n",
       "      <td>16</td>\n",
       "      <td>1077</td>\n",
       "    </tr>\n",
       "    <tr>\n",
       "      <th>30632</th>\n",
       "      <td>플라이트플랜</td>\n",
       "      <td>없음</td>\n",
       "      <td>일단 외국영화였고..\\r\\r\\r\\n\\r\\r\\r\\n엄마와 딸이 비행기타는데\\r\\r\\r...</td>\n",
       "      <td>37,000피트 상공의 비행기를 배경으로 펼쳐지는 스릴러 영화로 조디 포스터가 맡은...</td>\n",
       "      <td>2016.03.20. 13:09</td>\n",
       "      <td>100</td>\n",
       "      <td>6</td>\n",
       "      <td>18</td>\n",
       "      <td>943</td>\n",
       "    </tr>\n",
       "    <tr>\n",
       "      <th>26035</th>\n",
       "      <td>디스 민즈 워</td>\n",
       "      <td>액션, 무협 영화</td>\n",
       "      <td>영화 제목이 생각안나서 그러는데요.\\r\\r\\r\\n뭐라해야되지 특수요원 남자 2명이서...</td>\n",
       "      <td>세계 최고의 실력을 가진 CIA 특수요원 터크(톰 하디)와 프랭클린(크리스 파인)....</td>\n",
       "      <td>2014.05.04. 22:41</td>\n",
       "      <td>139</td>\n",
       "      <td>7</td>\n",
       "      <td>56</td>\n",
       "      <td>2281</td>\n",
       "    </tr>\n",
       "  </tbody>\n",
       "</table>\n",
       "</div>"
      ],
      "text/plain": [
       "          answer       q_gen  \\\n",
       "18817     여자의 이별          없음   \n",
       "34093  미래를 걷는 소녀  로맨스, 멜로 영화   \n",
       "34292        체인드          없음   \n",
       "30632     플라이트플랜          없음   \n",
       "26035    디스 민즈 워   액션, 무협 영화   \n",
       "\n",
       "                                                question  \\\n",
       "18817  내공 50드립니다.\\r\\r\\r\\n\\r\\r\\r\\n옛날 영화이며(아마 1980년대 90...   \n",
       "34093  일본영화인데 여주?가 어떤건물계단에서 핸드폰을 실수로 떨어트렸는데 그게 옛날?로 가...   \n",
       "34292  줄거리는 연쇄살인마가 그 엄마는 죽이고 아이를 데려다가 키우며 자신의 살인을 돕게한...   \n",
       "30632  일단 외국영화였고..\\r\\r\\r\\n\\r\\r\\r\\n엄마와 딸이 비행기타는데\\r\\r\\r...   \n",
       "26035  영화 제목이 생각안나서 그러는데요.\\r\\r\\r\\n뭐라해야되지 특수요원 남자 2명이서...   \n",
       "\n",
       "                                                synopsis               time  \\\n",
       "18817  셜리 발렌타인(Shirley Valentine-Bradshaw: 폴린 콜린스 분)의...  2015.06.09. 21:16   \n",
       "34093  SF작가를 꿈꾸는 평범한 여고생 미호는 어느날 빌딩 계단을 내려가던 중, 지진이 일...  2016.04.03. 16:21   \n",
       "34292  9살의 어린 소년 팀은 우연히 엄마와 탄 택시에서 끔찍한 변을 당하고 만다. 외딴 ...  2016.02.16. 15:37   \n",
       "30632  37,000피트 상공의 비행기를 배경으로 펼쳐지는 스릴러 영화로 조디 포스터가 맡은...  2016.03.20. 13:09   \n",
       "26035  세계 최고의 실력을 가진 CIA 특수요원 터크(톰 하디)와 프랭클린(크리스 파인)....  2014.05.04. 22:41   \n",
       "\n",
       "       len_question  len_answer  count  new_index  \n",
       "18817           458           6      2       1344  \n",
       "34093           144           9     75        501  \n",
       "34292            86           3     16       1077  \n",
       "30632           100           6     18        943  \n",
       "26035           139           7     56       2281  "
      ]
     },
     "execution_count": 16,
     "metadata": {},
     "output_type": "execute_result"
    }
   ],
   "source": [
    "train.head()"
   ]
  },
  {
   "cell_type": "markdown",
   "metadata": {},
   "source": [
    "## 2. Pos tagging with Twitter - 명사, 형용사, 동사"
   ]
  },
  {
   "cell_type": "code",
   "execution_count": 4,
   "metadata": {
    "scrolled": true
   },
   "outputs": [
    {
     "data": {
      "text/plain": [
       "(3788, 9)"
      ]
     },
     "execution_count": 4,
     "metadata": {},
     "output_type": "execute_result"
    }
   ],
   "source": [
    "# unique 한 영화만 들어있는 새로운 dataframe 만들기\n",
    "dff=df.drop_duplicates(subset='new_index')\n",
    "dff.shape"
   ]
  },
  {
   "cell_type": "code",
   "execution_count": 5,
   "metadata": {
    "collapsed": true
   },
   "outputs": [],
   "source": [
    "stop_words=['영화','설명','외국영화','죄송합니다','제목','페북','내용','배우','기억','영화관','어릴때','알려','답변','내공','혹시',\n",
    "            '주인공','일본','장르','장면','년도','년전','꼭좀','찾다','예전','티비','프로그램','질문','외국','유명하다']"
   ]
  },
  {
   "cell_type": "code",
   "execution_count": 6,
   "metadata": {},
   "outputs": [
    {
     "name": "stdout",
     "output_type": "stream",
     "text": [
      "32.245187520980835\n"
     ]
    }
   ],
   "source": [
    "import time\n",
    "start = time.time();\n",
    "\n",
    "# 특정 태그만 남기기 Twitter version synopsis\n",
    "tw=Twitter()\n",
    "synop_list=[]\n",
    "for synop in dff.synopsis:\n",
    "    synop=tw.pos(synop,norm=True,stem=True)\n",
    "    word_list=[]\n",
    "    for word, tag in synop:\n",
    "        if tag in ['Noun','Adjective','Verb']:\n",
    "            if len(word)>1:\n",
    "                word_list.append(word)\n",
    "    synop_list.append(word_list)\n",
    "    \n",
    "end = time.time();\n",
    "print(end-start)"
   ]
  },
  {
   "cell_type": "code",
   "execution_count": 7,
   "metadata": {},
   "outputs": [
    {
     "name": "stdout",
     "output_type": "stream",
     "text": [
      "151.50730276107788\n"
     ]
    }
   ],
   "source": [
    "# 특정 태그만 남기기 Twitter version train_question\n",
    "start = time.time();\n",
    "question_list=[]\n",
    "for q in train.question:\n",
    "    q=tw.pos(q,norm=True,stem=True)\n",
    "    word_list=[]\n",
    "    for word, tag in q:\n",
    "        if tag in ['Noun','Adjective','Verb']:\n",
    "            if len(word)>1:\n",
    "                if word not in stop_words:\n",
    "                    word_list.append(word)\n",
    "    question_list.append(word_list)\n",
    "    \n",
    "end = time.time();\n",
    "print(end-start)"
   ]
  },
  {
   "cell_type": "markdown",
   "metadata": {},
   "source": [
    "# 3. Doc2vec modeling"
   ]
  },
  {
   "cell_type": "markdown",
   "metadata": {},
   "source": [
    "### 1) Labeled sentence 생성 for modeling"
   ]
  },
  {
   "cell_type": "code",
   "execution_count": 8,
   "metadata": {
    "collapsed": true
   },
   "outputs": [],
   "source": [
    "# labeled sentence 생성\n",
    "from gensim.models.doc2vec import LabeledSentence, Doc2Vec, TaggedDocument\n",
    "\n",
    "doc_list=[]\n",
    "dff_index=list(dff.answer)\n",
    "train_index=list(train.answer)\n",
    "\n",
    "# synopsis만 추가\n",
    "for i in range(len(dff)):\n",
    "    doc=TaggedDocument(synop_list[i], [dff_index[i]])\n",
    "    doc_list.append(doc)\n",
    "\n",
    "# train question 추가\n",
    "for i in range(len(train)):\n",
    "    doc=TaggedDocument(question_list[i], [train_index[i]])\n",
    "    doc_list.append(doc)    "
   ]
  },
  {
   "cell_type": "markdown",
   "metadata": {},
   "source": [
    "### 2) Query setting for outout"
   ]
  },
  {
   "cell_type": "code",
   "execution_count": 10,
   "metadata": {},
   "outputs": [
    {
     "name": "stdout",
     "output_type": "stream",
     "text": [
      "36.13236689567566\n"
     ]
    }
   ],
   "source": [
    "# Queary setting \n",
    "start = time.time();\n",
    "\n",
    "query_list=[]\n",
    "for q in test.question:\n",
    "    q=tw.pos(q,norm=True,stem=True)\n",
    "    word_list=[]\n",
    "    for word, tag in q:\n",
    "        if tag in ['Noun','Adjective','Verb']:\n",
    "            if len(word)>1:\n",
    "                if word not in stop_words:\n",
    "                    word_list.append(word)\n",
    "    query_list.append(word_list)\n",
    "    \n",
    "end = time.time();\n",
    "print(end-start)"
   ]
  },
  {
   "cell_type": "markdown",
   "metadata": {},
   "source": [
    "### 3) making accuracy estimate function"
   ]
  },
  {
   "cell_type": "code",
   "execution_count": 11,
   "metadata": {
    "collapsed": true
   },
   "outputs": [],
   "source": [
    "# return accuracy function\n",
    "def get_model_accuracy(model,t):\n",
    "    # query input\n",
    "    acc_list=[]\n",
    "    test_answer_list=list(test.answer)\n",
    "\n",
    "    i=0\n",
    "    for query in query_list:\n",
    "        new_vector = model.infer_vector(query,alpha=0.001)\n",
    "        sims = model.docvecs.most_similar([new_vector],topn=t)\n",
    "\n",
    "        # 정확도 구하기\n",
    "        accuracy=[]\n",
    "        output_list=[]\n",
    "    \n",
    "        for title, similarity in sims:\n",
    "            output_list.append(title)\n",
    "       \n",
    "        if test_answer_list[i] in output_list:\n",
    "            accuracy.append(1)\n",
    "        else:\n",
    "            accuracy.append(0)\n",
    "    \n",
    "        i=i+1\n",
    "\n",
    "        acc_list.append(sum(accuracy))\n",
    "\n",
    "    results=(sum(acc_list)/len(acc_list))\n",
    "    \n",
    "    return results"
   ]
  },
  {
   "cell_type": "code",
   "execution_count": 30,
   "metadata": {},
   "outputs": [
    {
     "data": {
      "text/html": [
       "<div>\n",
       "<style>\n",
       "    .dataframe thead tr:only-child th {\n",
       "        text-align: right;\n",
       "    }\n",
       "\n",
       "    .dataframe thead th {\n",
       "        text-align: left;\n",
       "    }\n",
       "\n",
       "    .dataframe tbody tr th {\n",
       "        vertical-align: top;\n",
       "    }\n",
       "</style>\n",
       "<table border=\"1\" class=\"dataframe\">\n",
       "  <thead>\n",
       "    <tr style=\"text-align: right;\">\n",
       "      <th></th>\n",
       "      <th>answer</th>\n",
       "      <th>q_gen</th>\n",
       "      <th>question</th>\n",
       "      <th>synopsis</th>\n",
       "      <th>time</th>\n",
       "      <th>len_question</th>\n",
       "      <th>len_answer</th>\n",
       "      <th>count</th>\n",
       "      <th>new_index</th>\n",
       "    </tr>\n",
       "  </thead>\n",
       "  <tbody>\n",
       "    <tr>\n",
       "      <th>34706</th>\n",
       "      <td>더 캣</td>\n",
       "      <td>코미디영화</td>\n",
       "      <td>지금 중3이고 유치원생떄 본기억이 나는데 남매가 살고 있었는데 이상한 광대같이 생긴...</td>\n",
       "      <td>모든 스케줄을 PDA로 관리하는 새침한 ‘샐리’와 인생자체가 불만이며 산만하기 그지...</td>\n",
       "      <td>2015.08.06. 13:29</td>\n",
       "      <td>154</td>\n",
       "      <td>3</td>\n",
       "      <td>71</td>\n",
       "      <td>3741</td>\n",
       "    </tr>\n",
       "    <tr>\n",
       "      <th>24065</th>\n",
       "      <td>스카이라인</td>\n",
       "      <td>SF, 판타지 영화</td>\n",
       "      <td>제가 진짜 기억하려해도안나는영화가있는데여..\\r\\r\\r\\n외계인이나오는 영화인데 내...</td>\n",
       "      <td>제로드(에릭 벌포)와 일레인(스코티 톰슨) 커플은 친구 ‘테리’의 생일파티에 초대받...</td>\n",
       "      <td>2014.08.01. 23:21</td>\n",
       "      <td>198</td>\n",
       "      <td>5</td>\n",
       "      <td>92</td>\n",
       "      <td>2833</td>\n",
       "    </tr>\n",
       "    <tr>\n",
       "      <th>12900</th>\n",
       "      <td>마이너리티 리포트</td>\n",
       "      <td>SF, 판타지 영화</td>\n",
       "      <td>생각이안나서 질문드려요\\r\\r\\r\\r\\n영화내용중 한장면만 생각나서ㅠㅠ\\r\\r\\r\\...</td>\n",
       "      <td>2054년 워싱턴, 범죄가 일어나기 전 범죄를 예측해 범죄자를 단죄하는 최첨단 치안...</td>\n",
       "      <td>2014.06.21. 20:30</td>\n",
       "      <td>121</td>\n",
       "      <td>9</td>\n",
       "      <td>43</td>\n",
       "      <td>103</td>\n",
       "    </tr>\n",
       "    <tr>\n",
       "      <th>19204</th>\n",
       "      <td>콜로니:지구 최후의 날</td>\n",
       "      <td>공포, 스릴러 영화</td>\n",
       "      <td>영화 내용이 잘 기억이 안나는데\\r\\r\\r\\n지구가 멸망했나 아무튼 추위에 지하에서...</td>\n",
       "      <td>2144년, 갑작스러운 지구 온난화 이후 빙하기가 찾아왔다. 가까스로 살아남은 생존...</td>\n",
       "      <td>2015.05.11. 19:52</td>\n",
       "      <td>150</td>\n",
       "      <td>12</td>\n",
       "      <td>36</td>\n",
       "      <td>971</td>\n",
       "    </tr>\n",
       "    <tr>\n",
       "      <th>5646</th>\n",
       "      <td>코만도</td>\n",
       "      <td>공포, 스릴러 영화</td>\n",
       "      <td>그 딸이 납치돼서 아빠가 찾으로다니는데 찾다가어떤여자랑 눈맞아서 마지막에결혼하고 아...</td>\n",
       "      <td>세계 각처의 분쟁 해결을 위해 싸우던 특수부대 코만도의 매트릭스(Matrix: 아놀...</td>\n",
       "      <td>2015.03.14. 12:51</td>\n",
       "      <td>132</td>\n",
       "      <td>3</td>\n",
       "      <td>3</td>\n",
       "      <td>3380</td>\n",
       "    </tr>\n",
       "  </tbody>\n",
       "</table>\n",
       "</div>"
      ],
      "text/plain": [
       "             answer       q_gen  \\\n",
       "34706           더 캣       코미디영화   \n",
       "24065         스카이라인  SF, 판타지 영화   \n",
       "12900     마이너리티 리포트  SF, 판타지 영화   \n",
       "19204  콜로니:지구 최후의 날  공포, 스릴러 영화   \n",
       "5646            코만도  공포, 스릴러 영화   \n",
       "\n",
       "                                                question  \\\n",
       "34706  지금 중3이고 유치원생떄 본기억이 나는데 남매가 살고 있었는데 이상한 광대같이 생긴...   \n",
       "24065  제가 진짜 기억하려해도안나는영화가있는데여..\\r\\r\\r\\n외계인이나오는 영화인데 내...   \n",
       "12900  생각이안나서 질문드려요\\r\\r\\r\\r\\n영화내용중 한장면만 생각나서ㅠㅠ\\r\\r\\r\\...   \n",
       "19204  영화 내용이 잘 기억이 안나는데\\r\\r\\r\\n지구가 멸망했나 아무튼 추위에 지하에서...   \n",
       "5646   그 딸이 납치돼서 아빠가 찾으로다니는데 찾다가어떤여자랑 눈맞아서 마지막에결혼하고 아...   \n",
       "\n",
       "                                                synopsis               time  \\\n",
       "34706  모든 스케줄을 PDA로 관리하는 새침한 ‘샐리’와 인생자체가 불만이며 산만하기 그지...  2015.08.06. 13:29   \n",
       "24065  제로드(에릭 벌포)와 일레인(스코티 톰슨) 커플은 친구 ‘테리’의 생일파티에 초대받...  2014.08.01. 23:21   \n",
       "12900  2054년 워싱턴, 범죄가 일어나기 전 범죄를 예측해 범죄자를 단죄하는 최첨단 치안...  2014.06.21. 20:30   \n",
       "19204  2144년, 갑작스러운 지구 온난화 이후 빙하기가 찾아왔다. 가까스로 살아남은 생존...  2015.05.11. 19:52   \n",
       "5646   세계 각처의 분쟁 해결을 위해 싸우던 특수부대 코만도의 매트릭스(Matrix: 아놀...  2015.03.14. 12:51   \n",
       "\n",
       "       len_question  len_answer  count  new_index  \n",
       "34706           154           3     71       3741  \n",
       "24065           198           5     92       2833  \n",
       "12900           121           9     43        103  \n",
       "19204           150          12     36        971  \n",
       "5646            132           3      3       3380  "
      ]
     },
     "execution_count": 30,
     "metadata": {},
     "output_type": "execute_result"
    }
   ],
   "source": [
    "test.head()"
   ]
  },
  {
   "cell_type": "code",
   "execution_count": 40,
   "metadata": {},
   "outputs": [
    {
     "data": {
      "text/plain": [
       "[('콜로니:지구 최후의 날', 0.40398263931274414),\n",
       " ('원헌드레드', 0.2937268316745758),\n",
       " ('써티 데이즈 오브 나이트', 0.29140979051589966),\n",
       " ('최후의 용사', 0.28481325507164),\n",
       " ('혹성탈출', 0.28459781408309937),\n",
       " ('스타쉽 트루퍼스 2', 0.27995389699935913),\n",
       " ('GP506 (GP506, 2007)', 0.2747943103313446),\n",
       " ('파이어폭스', 0.2723645865917206),\n",
       " ('루인스', 0.27033764123916626),\n",
       " ('임팩트', 0.25911882519721985)]"
      ]
     },
     "execution_count": 40,
     "metadata": {},
     "output_type": "execute_result"
    }
   ],
   "source": [
    "ss = model.docvecs.most_similar([model.infer_vector(query_list[3])])\n",
    "ss"
   ]
  },
  {
   "cell_type": "code",
   "execution_count": 12,
   "metadata": {
    "collapsed": true
   },
   "outputs": [],
   "source": [
    "# return correct index list\n",
    "def get_correct_movie_info(model):\n",
    "    # query input\n",
    "    correct_list_index=[]\n",
    "    wrong_list_index=[]\n",
    "    \n",
    "    test_answer_list=list(test.answer)\n",
    "\n",
    "    i=0\n",
    "    for query in query_list:\n",
    "        new_vector = model.infer_vector(query,alpha=0.001)\n",
    "        sims = model.docvecs.most_similar([new_vector])\n",
    "\n",
    "        # 맞춘 영화 정보 구하기\n",
    "        output_list=[]\n",
    "\n",
    "        for title, similarity in sims:\n",
    "            output_list.append(title)\n",
    "        \n",
    "        if test_answer_list[i] in output_list:\n",
    "            correct_list_index.append(i)\n",
    "        else:\n",
    "            wrong_list_index.append(i)\n",
    "            \n",
    "        i=i+1\n",
    "    \n",
    "    return correct_list_index"
   ]
  },
  {
   "cell_type": "markdown",
   "metadata": {},
   "source": [
    "### 4) parameter tuning for best parameter setting"
   ]
  },
  {
   "cell_type": "markdown",
   "metadata": {},
   "source": [
    "#### prameter tuning\n",
    "hs = if 1, hierarchical softmax will be used for model training. If set to 0 (default), and negative is non-zero, negative sampling will be used.\n",
    "\n",
    "negative = if > 0, negative sampling will be used, the int for negative specifies how many “noise words” should be drawn (usually between 5-20). Default is 5. If set to 0, no negative samping is used.\n",
    "\n",
    "alpha is the initial learning rate (will linearly drop to min_alpha as training progresses)."
   ]
  },
  {
   "cell_type": "code",
   "execution_count": 13,
   "metadata": {
    "collapsed": true
   },
   "outputs": [
    {
     "name": "stdout",
     "output_type": "stream",
     "text": [
      "39.741217851638794\n"
     ]
    }
   ],
   "source": [
    "# modeling\n",
    "start = time.time();\n",
    "model = Doc2Vec(doc_list, alpha=0.1, size= 300, window = 6, min_count = 1, workers=1, seed = 42, iter=5, hs=1,negative=3)\n",
    "end = time.time();\n",
    "print(end-start)"
   ]
  },
  {
   "cell_type": "code",
   "execution_count": 14,
   "metadata": {},
   "outputs": [
    {
     "name": "stdout",
     "output_type": "stream",
     "text": [
      "0.737407743105011\n"
     ]
    }
   ],
   "source": [
    "# get accuracy\n",
    "print(get_model_accuracy(model,10))"
   ]
  },
  {
   "cell_type": "markdown",
   "metadata": {},
   "source": [
    "### 5) Results analysis"
   ]
  },
  {
   "cell_type": "code",
   "execution_count": 64,
   "metadata": {},
   "outputs": [],
   "source": [
    "# get correct data frame\n",
    "c=get_correct_movie_info(model)\n",
    "correct_df=test.iloc[c,:]"
   ]
  },
  {
   "cell_type": "code",
   "execution_count": 146,
   "metadata": {},
   "outputs": [
    {
     "name": "stdout",
     "output_type": "stream",
     "text": [
      "[0.5764599248996504, 0.6305839699598602, 0.6601061763563382, 0.6791402304803833, 0.6882040657775476, 0.7036125857827269, 0.7131943545254434, 0.7212223229315033, 0.7276964910009064, 0.7357244594069662]\n"
     ]
    }
   ],
   "source": [
    "# make accuracy list\n",
    "acc=[]\n",
    "for i in range(1,11):\n",
    "    acc.append(get_model_accuracy(model,i))\n",
    "\n",
    "print(acc)"
   ]
  },
  {
   "cell_type": "code",
   "execution_count": 147,
   "metadata": {},
   "outputs": [
    {
     "data": {
      "image/png": "[encoded data removed]",
      "text/plain": [
       "<matplotlib.figure.Figure at 0x13ca605c470>"
      ]
     },
     "metadata": {},
     "output_type": "display_data"
    }
   ],
   "source": [
    "# 정답 선정 개수 기준에 따른 정확도 변화 plot\n",
    "\n",
    "#matplotlib 한글 깨짐 방지 코드\n",
    "from matplotlib import font_manager, rc\n",
    "font_name = font_manager.FontProperties(fname=\"c:/Windows/Fonts/malgun.ttf\").get_name()\n",
    "rc('font', family=font_name) \n",
    "\n",
    "# plot\n",
    "plt.plot(range(1,11), acc, color='red')\n",
    "plt.title(\"정답 선정 개수 기준에 따른 정확도 변화 (n=1~10)\",fontsize=15)\n",
    "plt.show()"
   ]
  },
  {
   "cell_type": "code",
   "execution_count": 102,
   "metadata": {
    "collapsed": true
   },
   "outputs": [],
   "source": [
    "# \n",
    "min_c=min(correct_df['count'])\n",
    "max_c=max(correct_df['count'])\n",
    "correct_count_list=[]\n",
    "\n",
    "min_t=min(test['count'])\n",
    "max_t=max(test['count'])\n",
    "all_count_list=[]\n",
    "\n",
    "for i in range(min_c,max_c):\n",
    "    correct_count_list.append(sum(correct_df['count']==i))\n",
    "    \n",
    "for i in range(min_t,max_t):\n",
    "    all_count_list.append(sum(test['count']==i))"
   ]
  },
  {
   "cell_type": "code",
   "execution_count": 113,
   "metadata": {},
   "outputs": [
    {
     "data": {
      "image/png": "[encoded data removed]",
      "text/plain": [
       "<matplotlib.figure.Figure at 0x13ca5dffe48>"
      ]
     },
     "metadata": {},
     "output_type": "display_data"
    }
   ],
   "source": [
    "# 영화당 질문별 \n",
    "plt.plot(range(min_t,max_t), all_count_list, color='blue')\n",
    "plt.plot(range(min_c,max_c), correct_count_list, color='red')\n",
    "plt.title(\"\",fontsize=15)\n",
    "plt.show()"
   ]
  },
  {
   "cell_type": "code",
   "execution_count": null,
   "metadata": {
    "collapsed": true
   },
   "outputs": [],
   "source": [
    "# plot\n",
    "plt.plot(range(1,21), acc, color='red')\n",
    "\n",
    "plt.title(\"정답 선정 개수 기준에 따른 정확도 변화 (n=1~20)\",fontsize=15)\n",
    "plt.show()"
   ]
  },
  {
   "cell_type": "markdown",
   "metadata": {},
   "source": [
    "### 6) Results (Accuracy)"
   ]
  },
  {
   "cell_type": "markdown",
   "metadata": {},
   "source": [
    "#### score board topn=20\n",
    "model = Doc2Vec(doc_list, alpha=0.1, size= 300, window = 6, min_count = 1, workers=1, seed = 42, iter=5, hs=1,negative=3) --> 77.5"
   ]
  },
  {
   "cell_type": "markdown",
   "metadata": {},
   "source": [
    "#### score board topn=10\n",
    "model = Doc2Vec(doc_list, size= 300, window = 6, min_count = 1, workers=1, seed = 42, iter=5, hs=1) --> 52.8  \n",
    "model = Doc2Vec(doc_list, alpha=0.1, size= 300, window = 6, min_count = 1, workers=1, seed = 42, iter=5, hs=1,negative=3) --> 73.5"
   ]
  },
  {
   "cell_type": "markdown",
   "metadata": {},
   "source": [
    "#### score board topn=5\n",
    "model = Doc2Vec(doc_list, alpha=0.1, size= 300, window = 6, min_count = 1, workers=1, seed = 42, iter=5, hs=1,negative=3) --> 69\n"
   ]
  },
  {
   "cell_type": "markdown",
   "metadata": {},
   "source": [
    "#### score board topn=1\n",
    "model = Doc2Vec(doc_list, alpha=0.1, size= 300, window = 6, min_count = 1, workers=1, seed = 42, iter=5, hs=1,negative=3) --> 57.3\n"
   ]
  },
  {
   "cell_type": "markdown",
   "metadata": {},
   "source": [
    "## 7) save model"
   ]
  },
  {
   "cell_type": "code",
   "execution_count": null,
   "metadata": {
    "collapsed": true
   },
   "outputs": [],
   "source": [
    "# store the model to mmap-able files\n",
    "model.save('my_model.doc2vec')\n",
    "#load the model back\n",
    "#model_loaded = Doc2Vec.load('my_model.doc2vec')"
   ]
  },
  {
   "cell_type": "code",
   "execution_count": 133,
   "metadata": {},
   "outputs": [
    {
     "data": {
      "text/plain": [
       "'지금 중3이고 유치원생떄 본기억이 나는데 남매가 살고 있었는데 이상한 광대같이 생긴 사람이 들어와서 같이 놀면서 집안을 쑥대밭으로 만든 장면도 기억나고 홈쇼핑 찍는것도 기억나고 집안에 보라색 물들이 가득차서 할머니는 둥둥떠다는거 까지 기억나는데 무슨 영화였는지 정말 궁금해요ㅜ'"
      ]
     },
     "execution_count": 133,
     "metadata": {},
     "output_type": "execute_result"
    }
   ],
   "source": [
    "test.question[34706]"
   ]
  },
  {
   "cell_type": "code",
   "execution_count": 143,
   "metadata": {},
   "outputs": [
    {
     "data": {
      "text/plain": [
       "[('스파이더위크가의 비밀', 0.2941552400588989),\n",
       " ('네트 2.0', 0.2685217261314392),\n",
       " ('솔로몬 케인', 0.24590462446212769),\n",
       " ('워하우스', 0.2277802675962448),\n",
       " ('타임크라임', 0.2127988636493683),\n",
       " ('윈드토커', 0.20705699920654297),\n",
       " ('c', 0.20396682620048523),\n",
       " ('잠베지아: 신비한 나무섬의 비밀', 0.1999140977859497),\n",
       " ('홀즈', 0.1982620656490326),\n",
       " ('이미테이션 게임', 0.19305674731731415)]"
      ]
     },
     "execution_count": 143,
     "metadata": {},
     "output_type": "execute_result"
    }
   ],
   "source": [
    "# query input\n",
    "new_vector = model.infer_vector(query_list[10],alpha=0.001)\n",
    "sims = model.docvecs.most_similar([new_vector])\n",
    "sims"
   ]
  },
  {
   "cell_type": "code",
   "execution_count": null,
   "metadata": {
    "collapsed": true
   },
   "outputs": [],
   "source": []
  },
  {
   "cell_type": "code",
   "execution_count": null,
   "metadata": {
    "collapsed": true
   },
   "outputs": [],
   "source": []
  },
  {
   "cell_type": "code",
   "execution_count": null,
   "metadata": {
    "collapsed": true
   },
   "outputs": [],
   "source": []
  },
  {
   "cell_type": "code",
   "execution_count": null,
   "metadata": {
    "collapsed": true
   },
   "outputs": [],
   "source": [
    "# Pick a random document from the test corpus and infer a vector from the model\n",
    "doc_id = random.randint(0, len(test_corpus))\n",
    "inferred_vector = model.infer_vector(test_corpus[doc_id])\n",
    "sims = model.docvecs.most_similar([inferred_vector], topn=len(model.docvecs))\n",
    "\n",
    "# Compare and print the most/median/least similar documents from the train corpus\n",
    "print('Test Document ({}): «{}»\\n'.format(doc_id, ' '.join(test_corpus[doc_id])))\n",
    "print(u'SIMILAR/DISSIMILAR DOCS PER MODEL %s:\\n' % model)\n",
    "for label, index in [('MOST', 0), ('MEDIAN', len(sims)//2), ('LEAST', len(sims) - 1)]:\n",
    "    print(u'%s %s: «%s»\\n' % (label, sims[index], ' '.join(train_corpus[sims[index][0]].words)))"
   ]
  },
  {
   "cell_type": "markdown",
   "metadata": {},
   "source": [
    "# 아래는 참고 코드"
   ]
  },
  {
   "cell_type": "markdown",
   "metadata": {},
   "source": [
    "### 3) TF-IDF Synopsis"
   ]
  },
  {
   "cell_type": "code",
   "execution_count": 223,
   "metadata": {
    "collapsed": true,
    "scrolled": true
   },
   "outputs": [],
   "source": [
    "# TF-IDF 만들기 (synopsis)\n",
    "corpus=[]\n",
    "for doc in synop_list:\n",
    "    corpus.append(' '.join(doc))"
   ]
  },
  {
   "cell_type": "code",
   "execution_count": 148,
   "metadata": {
    "collapsed": true
   },
   "outputs": [],
   "source": [
    "# TF-IDF modeling\n",
    "#idf_maker=TfidfVectorizer(min_df=3)\n",
    "#tf_idf=idf_maker.fit_transform(corpus).toarray()"
   ]
  },
  {
   "cell_type": "code",
   "execution_count": null,
   "metadata": {
    "collapsed": true
   },
   "outputs": [],
   "source": [
    "idf_maker = TfidfVectorizer(min_df=2)\n",
    "tf_idf = idf_maker.fit_transform(word_list).toarray()\n",
    "tf_idf_dtm = pd.DataFrame(tf_idf, columns= idf_maker.get_feature_names(), \n",
    "                      index= ['taxi', 'gunhamdo', 'young_police', 'war_of_species', 'nomuhyun', 'summer_500', 'dung','sunshine',\n",
    "                              'annabel', 'spiderman'])\n",
    "tf_idf_dtm"
   ]
  },
  {
   "cell_type": "code",
   "execution_count": null,
   "metadata": {
    "collapsed": true
   },
   "outputs": [],
   "source": [
    "# 중복제거\n",
    "def remove_duplicates(li):\n",
    "    my_set=set()\n",
    "    res=[]\n",
    "    for e in li:\n",
    "        if e not in my_set:\n",
    "            res. append(e)\n",
    "            my_set.add(e)\n",
    "    return res"
   ]
  },
  {
   "cell_type": "markdown",
   "metadata": {},
   "source": [
    "# Babel practice code"
   ]
  },
  {
   "cell_type": "markdown",
   "metadata": {},
   "source": [
    "- 대학생 커뮤니티에서 수집한 174만개의 문장을 Step2에서의 방법으로 형태소 분석하고, 단어의 리스트 포맷으로 만듦.  \n",
    "- 포맷 : [ [\"word1/pos1\", \"word2/pos2\", \"word3/pos3\", ... ], [\"word4/pos4\", \"word5/pos5\", ... ], ... ] \n",
    "- __사정상 데이터는 공개 불가 ㅜ__"
   ]
  },
  {
   "cell_type": "markdown",
   "metadata": {},
   "source": [
    "- 앞서 만든 word2vec 모델은 기존 1-hot 벡터표현법에 비해 차원(dimension)이 상당히 줄어들었지만, 그래도 300차원..\n",
    "- 이를 평면상에 시각화해보기 위해서는 t-SNE를 이용하여 차원을 2차원으로 축소해야함.\n",
    "- t-SNE는 scikit-learn에서 제공."
   ]
  },
  {
   "cell_type": "code",
   "execution_count": 259,
   "metadata": {
    "collapsed": true
   },
   "outputs": [],
   "source": [
    "from sklearn.manifold import TSNE\n",
    "import matplotlib.pyplot as plt"
   ]
  },
  {
   "cell_type": "code",
   "execution_count": 260,
   "metadata": {
    "collapsed": true
   },
   "outputs": [],
   "source": [
    "tsne = TSNE(perplexity=30, n_components=2, init='pca', n_iter=5000) \n",
    "# 여기서 중요한 것은 n_components만큼 차원을 축소함. Cartarian 좌표계로 시각화하기 위해 2차원으로 축소."
   ]
  },
  {
   "cell_type": "code",
   "execution_count": 261,
   "metadata": {
    "collapsed": true
   },
   "outputs": [],
   "source": [
    "# numpy객체 출력시 소숫점 출력안함\n",
    "np.set_printoptions(suppress=True)"
   ]
  },
  {
   "cell_type": "code",
   "execution_count": 264,
   "metadata": {},
   "outputs": [
    {
     "ename": "AttributeError",
     "evalue": "'Word2Vec' object has no attribute 'syn0'",
     "output_type": "error",
     "traceback": [
      "\u001b[1;31m---------------------------------------------------------------------------\u001b[0m",
      "\u001b[1;31mAttributeError\u001b[0m                            Traceback (most recent call last)",
      "\u001b[1;32m<ipython-input-264-90b3659f09cf>\u001b[0m in \u001b[0;36m<module>\u001b[1;34m()\u001b[0m\n\u001b[1;32m----> 1\u001b[1;33m \u001b[0mvectors\u001b[0m \u001b[1;33m=\u001b[0m \u001b[0mmodel\u001b[0m\u001b[1;33m.\u001b[0m\u001b[0msyn0\u001b[0m\u001b[1;33m\u001b[0m\u001b[0m\n\u001b[0m\u001b[0;32m      2\u001b[0m \u001b[0mlabels\u001b[0m \u001b[1;33m=\u001b[0m \u001b[0mmodel\u001b[0m\u001b[1;33m.\u001b[0m\u001b[0mindex2word\u001b[0m\u001b[1;33m\u001b[0m\u001b[0m\n",
      "\u001b[1;31mAttributeError\u001b[0m: 'Word2Vec' object has no attribute 'syn0'"
     ]
    }
   ],
   "source": [
    "vectors = model_w2v.syn0\n",
    "labels = model_w2v.index2word"
   ]
  },
  {
   "cell_type": "code",
   "execution_count": null,
   "metadata": {
    "collapsed": true
   },
   "outputs": [],
   "source": [
    "# 이것도 오오오오오오래걸림...\n",
    "import time\n",
    "start = time.time();\n",
    "vectors_simple = tsne.fit_transform(vectors)\n",
    "end = time.time();\n",
    "print end -start"
   ]
  },
  {
   "cell_type": "code",
   "execution_count": null,
   "metadata": {
    "collapsed": true
   },
   "outputs": [],
   "source": [
    "# 차원축소된 벡터 저장.\n",
    "#with open('vectors_simple.txt', 'w') as f:\n",
    "#    pickle.dump(vectors_simple, f)"
   ]
  },
  {
   "cell_type": "code",
   "execution_count": null,
   "metadata": {
    "collapsed": true
   },
   "outputs": [],
   "source": [
    "# 저장된 벡터 불러오기.\n",
    "#with open('vectors_simple.txt', 'rb') as f:   \n",
    "#    vectors_simple = pickle.load(f)"
   ]
  },
  {
   "cell_type": "code",
   "execution_count": null,
   "metadata": {
    "collapsed": true
   },
   "outputs": [],
   "source": [
    "from bokeh.plotting import figure, show, output_notebook, output_file"
   ]
  },
  {
   "cell_type": "code",
   "execution_count": null,
   "metadata": {
    "collapsed": true
   },
   "outputs": [],
   "source": [
    "#output_file(\"word2vec_tsne.html\") # 시각화 결과물을 \"word2vec_tsne.html\" 이름으로 export\n",
    "output_notebook() # 시각화 결과물을 jupyter 노트북에 보여줌."
   ]
  },
  {
   "cell_type": "code",
   "execution_count": null,
   "metadata": {
    "collapsed": true
   },
   "outputs": [],
   "source": [
    "from bokeh.models import HoverTool, ColumnDataSource\n",
    "\n",
    "source = ColumnDataSource(\n",
    "        data=dict(\n",
    "            x=vectors_simple.T[0],\n",
    "            y=vectors_simple.T[1],\n",
    "            word=labels,\n",
    "        )\n",
    "    )\n",
    "\n",
    "\n",
    "hover = HoverTool(\n",
    "        tooltips=[\n",
    "            (\"index\", \"$index\"),\n",
    "            (\"(x,y)\", \"($x, $y)\"),\n",
    "            (\"word\", \"@word\"),\n",
    "        ]\n",
    "    )\n",
    "TOOLS = \"pan,wheel_zoom,box_zoom,reset,resize\""
   ]
  },
  {
   "cell_type": "code",
   "execution_count": null,
   "metadata": {
    "collapsed": true
   },
   "outputs": [],
   "source": [
    "p = figure(plot_width=700, plot_height=700, tools=[TOOLS,hover], title=\"Words of Univ Students\")\n",
    "p.circle('x', 'y', size=7, source=source, alpha=0.4, fill_color=\"red\", line_color=\"#ff9900\")\n",
    "\n",
    "show(p)"
   ]
  },
  {
   "cell_type": "code",
   "execution_count": null,
   "metadata": {
    "collapsed": true
   },
   "outputs": [],
   "source": [
    "# 강의 코드 \n",
    "lines=text.split('\\r\\n')\n",
    "result=[]\n",
    "for line in lines:\n",
    "    r=[]\n",
    "    malist=twitter.pos(line, norm=True, stem=True)\n",
    "    for (word, pumsa) in malist:\n",
    "        if not mumsa in ['josa']:\n",
    "            r.append(word)\n",
    "    result.append((\" \".join(r)).strip())\n",
    "    \n",
    "output=(\" \".join(results)).strip()\n",
    "\n",
    "with open('aa.txt','w', encoding='utf-8') as fp:\n",
    "    fp.write(output)\n",
    "\n",
    "data=word2vec.Linesentenc('adf.wakati')\n",
    "model=word2vec.Word2Vec(data, size=200, window=10, hs=1, min_count=2, sq=1)\n",
    "model.save(\"\")\n",
    "\n",
    "\n",
    "noun_adv_verb_only_list = [word, part for word, part in test_docs1[10][0] if part == \"Verb\" or part == \"Adjective\" or part == \"Noun\"]\n",
    "\n",
    "# unload useless memory\n",
    "model.init_sims(replace=True)\n",
    "\n",
    "# 강의 코드 \n",
    "lines=text.split('\\r\\n')\n",
    "result=[]\n",
    "for line in lines:\n",
    "    r=[]\n",
    "    malist=twitter.pos(line, norm=True, stem=True)\n",
    "    for (word, pumsa) in malist:\n",
    "        if not mumsa in ['josa']:\n",
    "            r.append(word)\n",
    "    result.append((\" \".join(r)).strip())\n",
    "    \n",
    "output=(\" \".join(results)).strip()\n"
   ]
  }
 ],
 "metadata": {
  "kernelspec": {
   "display_name": "Python 3",
   "language": "python",
   "name": "python3"
  },
  "language_info": {
   "codemirror_mode": {
    "name": "ipython",
    "version": 3
   },
   "file_extension": ".py",
   "mimetype": "text/x-python",
   "name": "python",
   "nbconvert_exporter": "python",
   "pygments_lexer": "ipython3",
   "version": "3.6.4"
  }
 },
 "nbformat": 4,
 "nbformat_minor": 2
}
