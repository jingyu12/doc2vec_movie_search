{
 "cells": [
  {
   "cell_type": "markdown",
   "metadata": {},
   "source": [
    "# Information management\n",
    "## word2vec을 이용한 기억속 영화 찾기(doc2vec)\n",
    "## 1. Read Data"
   ]
  },
  {
   "cell_type": "code",
   "execution_count": 375,
   "metadata": {
    "collapsed": true
   },
   "outputs": [],
   "source": [
    "import numpy as np\n",
    "import pandas as pd\n",
    "import os, re\n",
    "#from konlpy.tag import Twitter\n",
    "#from konlpy.utils import pprint\n",
    "#from gensim.models.doc2vec import LabeledSentence, Doc2Vec\n",
    "#from gensim.models import Word2Vec\n",
    "#from sklearn.feature_extraction.text import TfidfVectorizer"
   ]
  },
  {
   "cell_type": "code",
   "execution_count": 396,
   "metadata": {
    "scrolled": true
   },
   "outputs": [
    {
     "data": {
      "text/plain": [
       "(116377, 6)"
      ]
     },
     "execution_count": 396,
     "metadata": {},
     "output_type": "execute_result"
    }
   ],
   "source": [
    "# change directory\n",
    "os.chdir('D:/UNIST/17-2학기 자료/IM')\n",
    "# read data\n",
    "df=pd.read_csv('merged.csv',encoding='cp949')\n",
    "del df['Unnamed: 0.1']\n",
    "df.shape"
   ]
  },
  {
   "cell_type": "markdown",
   "metadata": {},
   "source": [
    "## 2. Preprocessing  "
   ]
  },
  {
   "cell_type": "markdown",
   "metadata": {},
   "source": [
    "#### 1) 영화 title 찾기, 영화 배우 찾는 질문 삭제"
   ]
  },
  {
   "cell_type": "code",
   "execution_count": 397,
   "metadata": {},
   "outputs": [
    {
     "data": {
      "text/plain": [
       "(116314, 6)"
      ]
     },
     "execution_count": 397,
     "metadata": {},
     "output_type": "execute_result"
    }
   ],
   "source": [
    "# find out movie title\n",
    "movie_title=[]\n",
    "for i in range(len(df)):\n",
    "    a=df.answer[i].split('\\r')[0]\n",
    "    movie_title.append(a)\n",
    "\n",
    "# change answer to movie title\n",
    "df.answer=movie_title\n",
    "\n",
    "# delete questions not for find out movie title\n",
    "for i in range(len(df)):\n",
    "    a=df.answer[i].find('영화배우')\n",
    "    if a!=-1:\n",
    "        not_movie_title.append(i)\n",
    "\n",
    "df.drop(not_movie_title,axis=0,inplace=True)\n",
    "df.shape"
   ]
  },
  {
   "cell_type": "markdown",
   "metadata": {},
   "source": [
    "#### 2) 관련 장르 이외 제외, na값 제거, Questinon 길이 50미만 제거, answer 길이 25 이상 제거, 질문 중복 제거"
   ]
  },
  {
   "cell_type": "code",
   "execution_count": 398,
   "metadata": {
    "scrolled": true
   },
   "outputs": [
    {
     "data": {
      "text/plain": [
       "(40394, 8)"
      ]
     },
     "execution_count": 398,
     "metadata": {},
     "output_type": "execute_result"
    }
   ],
   "source": [
    "# drop gen\n",
    "df['q_gen']=df['q_gen'].fillna('없음')\n",
    "drop_gen=list(df.q_gen.value_counts().index)[10:]\n",
    "\n",
    "for gen in drop_gen:\n",
    "    df=df[df.q_gen!=gen]\n",
    "\n",
    "# delete no answer\n",
    "df=df[df.answer!='           ']\n",
    "df=df[df.answer!='   ']\n",
    "df=df[df.answer!='  ']\n",
    "df=df[df.answer!=' ']\n",
    "df=df[df.answer!='  관련 장면 :']\n",
    "df=df[df.answer!='관련 장면 :']\n",
    "df=df[df.answer!='혹시 이 영화가 아닐까요.']\n",
    "df=df[df.answer!='혹시 이 영화 아닐까요.']\n",
    "df=df[df.answer!='혹시 이 영화가 아닐까 싶은데요.']\n",
    "df=df[df.answer!='혹시 이 영화가 아닐까 싶습니다.']\n",
    "df=df[df.answer!='찍어봅니다.']\n",
    "df=df[df.answer!='혹시 이 영화일까요.']\n",
    "df=df[df.answer!='혹시 이 영화가 아닐까 싶네요.']\n",
    "\n",
    "# delete no synopsis \n",
    "df=df[df.synopsis!='There is no synopsis']\n",
    "\n",
    "# delete nan synopsis, question\n",
    "df=df.dropna(subset=['synopsis','question'])\n",
    "\n",
    "# find out question length and delete <50\n",
    "len_question=[]\n",
    "for q in df.question:\n",
    "    len_question.append(len(q))\n",
    "    \n",
    "df['len_question']=len_question\n",
    "df=df[df.len_question>=50]\n",
    "\n",
    "# drop answers length>25\n",
    "len_answer=[]\n",
    "for a in df.answer:\n",
    "    len_answer.append(len(a))\n",
    "    \n",
    "df['len_answer']=len_answer\n",
    "df=df[df.len_answer<=25]\n",
    "\n",
    "# 빈 공간 제거\n",
    "df.loc[:,'answer']=df.loc[:,'answer'].str.strip()\n",
    "\n",
    "# drop duplicates\n",
    "df=df.drop_duplicates(subset='question')\n",
    "\n",
    "# reindex\n",
    "df=pd.DataFrame.reset_index(df,drop=True)\n",
    "\n",
    "df.shape"
   ]
  },
  {
   "cell_type": "markdown",
   "metadata": {},
   "source": [
    "#### 2-1) 총 다른 영화 질문 개수 "
   ]
  },
  {
   "cell_type": "code",
   "execution_count": 399,
   "metadata": {
    "scrolled": false
   },
   "outputs": [
    {
     "data": {
      "text/plain": [
       "(38614, 9)"
      ]
     },
     "execution_count": 399,
     "metadata": {},
     "output_type": "execute_result"
    }
   ],
   "source": [
    "# 중복 등장한 횟수로 새로운 변수 생성 \n",
    "count_dict=dict(df.answer.value_counts())\n",
    "df['count']=df['answer'].map(count_dict)\n",
    "\n",
    "# 한 번만 등장한 영화 재거\n",
    "df=df[df['count']>1]\n",
    "\n",
    "df.shape"
   ]
  },
  {
   "cell_type": "code",
   "execution_count": 400,
   "metadata": {},
   "outputs": [
    {
     "data": {
      "text/plain": [
       "3788"
      ]
     },
     "execution_count": 400,
     "metadata": {},
     "output_type": "execute_result"
    }
   ],
   "source": [
    "# find out same movie title count\n",
    "s=df.answer.value_counts()\n",
    "len(s)"
   ]
  },
  {
   "cell_type": "code",
   "execution_count": 404,
   "metadata": {
    "scrolled": true
   },
   "outputs": [
    {
     "data": {
      "text/plain": [
       "3788"
      ]
     },
     "execution_count": 404,
     "metadata": {},
     "output_type": "execute_result"
    }
   ],
   "source": [
    "# n 개 이상의 질문이 있는 영화의 수\n",
    "sum(df.answer.value_counts().values>=2)"
   ]
  },
  {
   "cell_type": "markdown",
   "metadata": {},
   "source": [
    "#### 2-2) 새로운 인덱싱"
   ]
  },
  {
   "cell_type": "code",
   "execution_count": 402,
   "metadata": {
    "collapsed": true,
    "scrolled": true
   },
   "outputs": [],
   "source": [
    "# 새롭게 인덱스 매기기\n",
    "key=set(list(df.answer))\n",
    "value=list(range(len(key)))\n",
    "index_dictionary = dict(zip(key, value))\n",
    "\n",
    "df['new_index']=df['answer'].map(index_dictionary)\n",
    "\n",
    "# reindex\n",
    "df=pd.DataFrame.reset_index(df,drop=True)"
   ]
  },
  {
   "cell_type": "markdown",
   "metadata": {},
   "source": [
    "#### 3) df로 저장"
   ]
  },
  {
   "cell_type": "code",
   "execution_count": 403,
   "metadata": {
    "collapsed": true
   },
   "outputs": [],
   "source": [
    "pd.DataFrame.to_csv(df,'formodeling.csv',encoding='cp949')"
   ]
  }
 ],
 "metadata": {
  "kernelspec": {
   "display_name": "Python 3",
   "language": "python",
   "name": "python3"
  },
  "language_info": {
   "codemirror_mode": {
    "name": "ipython",
    "version": 3
   },
   "file_extension": ".py",
   "mimetype": "text/x-python",
   "name": "python",
   "nbconvert_exporter": "python",
   "pygments_lexer": "ipython3",
   "version": "3.6.4"
  }
 },
 "nbformat": 4,
 "nbformat_minor": 2
}
