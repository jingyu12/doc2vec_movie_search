{
 "cells": [
  {
   "cell_type": "markdown",
   "metadata": {},
   "source": [
    "# Project Modeling"
   ]
  },
  {
   "cell_type": "markdown",
   "metadata": {},
   "source": [
    "### 1. Read Data"
   ]
  },
  {
   "cell_type": "code",
   "execution_count": 2,
   "metadata": {},
   "outputs": [],
   "source": [
    "import numpy as np\n",
    "import pandas as pd\n",
    "import os, re\n",
    "from konlpy.tag import Twitter\n",
    "from gensim.models.doc2vec import LabeledSentence, Doc2Vec\n",
    "from sklearn.model_selection import train_test_split\n",
    "import matplotlib.pyplot as plt\n",
    "\n",
    "os.chdir('D:/UNIST/18-1학기 자료/tm')"
   ]
  },
  {
   "cell_type": "code",
   "execution_count": 3,
   "metadata": {
    "scrolled": false
   },
   "outputs": [
    {
     "name": "stdout",
     "output_type": "stream",
     "text": [
      "shape of the data set : (38613, 3)\n"
     ]
    }
   ],
   "source": [
    "# read data\n",
    "df=pd.read_csv('formodeling_revised.csv',encoding='utf_8',index_col=0)\n",
    "print('shape of the data set :',df.shape)"
   ]
  },
  {
   "cell_type": "markdown",
   "metadata": {},
   "source": [
    "### 1-1. Train & Test Set split"
   ]
  },
  {
   "cell_type": "code",
   "execution_count": 21,
   "metadata": {
    "scrolled": true
   },
   "outputs": [
    {
     "name": "stdout",
     "output_type": "stream",
     "text": [
      "unique number of movie in train data:  3788\n",
      "unique number of movie in train data:  2720 \n",
      "\n",
      "train data shape:  (30890, 3)\n",
      "test data shape:  (7723, 3)\n"
     ]
    }
   ],
   "source": [
    "# split train test data (영화별 비율 유지)\n",
    "train,test = train_test_split(df, random_state=42, train_size=0.8, test_size=0.2, stratify=df.answer)\n",
    "\n",
    "print('unique number of movie in train data: ',len(train.answer.value_counts().index))\n",
    "print('unique number of movie in train data: ',len(test.answer.value_counts().index),'\\n')\n",
    "print('train data shape: ',train.shape)\n",
    "print('test data shape: ',test.shape)"
   ]
  },
  {
   "cell_type": "markdown",
   "metadata": {},
   "source": [
    "## 2. Pos tagging with Twitter - 명사, 형용사, 동사"
   ]
  },
  {
   "cell_type": "code",
   "execution_count": 11,
   "metadata": {},
   "outputs": [
    {
     "name": "stdout",
     "output_type": "stream",
     "text": [
      "shape of unique movie dataset : (3938, 2)\n"
     ]
    }
   ],
   "source": [
    "# unique 한 영화만 들어있는 새로운 dataframe 만들기\n",
    "uniq_movie=df.loc[:,['synopsis','answer']].drop_duplicates().reset_index(drop=True)\n",
    "print('shape of unique movie dataset :', uniq_movie.shape)"
   ]
  },
  {
   "cell_type": "code",
   "execution_count": 8,
   "metadata": {
    "collapsed": true
   },
   "outputs": [],
   "source": [
    "stop_words=['영화','설명','외국영화','죄송합니다','제목','페북','내용','배우','기억','영화관','어릴때','알려','답변','내공','혹시',\n",
    "            '주인공','일본','장르','장면','년도','년전','꼭좀','찾다','예전','티비','프로그램','질문','외국','유명하다']"
   ]
  },
  {
   "cell_type": "code",
   "execution_count": 6,
   "metadata": {},
   "outputs": [
    {
     "name": "stdout",
     "output_type": "stream",
     "text": [
      "31.673808813095093\n"
     ]
    }
   ],
   "source": [
    "import time\n",
    "start = time.time();\n",
    "\n",
    "# 특정 태그만 남기기 Twitter version synopsis\n",
    "tw=Twitter()\n",
    "synop_list=[]\n",
    "for synop in dff.synopsis:\n",
    "    synop=tw.pos(synop,norm=True,stem=True)\n",
    "    word_list=[]\n",
    "    for word, tag in synop:\n",
    "        if tag in ['Noun','Adjective','Verb']:\n",
    "            if len(word)>1:\n",
    "                word_list.append(word)\n",
    "    synop_list.append(word_list)\n",
    "    \n",
    "end = time.time();\n",
    "print(end-start)"
   ]
  },
  {
   "cell_type": "code",
   "execution_count": 9,
   "metadata": {},
   "outputs": [
    {
     "name": "stdout",
     "output_type": "stream",
     "text": [
      "145.14981484413147\n"
     ]
    }
   ],
   "source": [
    "# 특정 태그만 남기기 Twitter version train_question\n",
    "start = time.time();\n",
    "question_list=[]\n",
    "for q in train.question:\n",
    "    q=tw.pos(q,norm=True,stem=True)\n",
    "    word_list=[]\n",
    "    for word, tag in q:\n",
    "        if tag in ['Noun','Adjective','Verb']:\n",
    "            if len(word)>1:\n",
    "                if word not in stop_words:\n",
    "                    word_list.append(word)\n",
    "    question_list.append(word_list)\n",
    "    \n",
    "end = time.time();\n",
    "print(end-start)"
   ]
  },
  {
   "cell_type": "markdown",
   "metadata": {},
   "source": [
    "# 3. Doc2vec modeling"
   ]
  },
  {
   "cell_type": "markdown",
   "metadata": {},
   "source": [
    "### 1) Labeled sentence 생성 for modeling"
   ]
  },
  {
   "cell_type": "code",
   "execution_count": 10,
   "metadata": {
    "collapsed": true
   },
   "outputs": [],
   "source": [
    "# labeled sentence 생성\n",
    "from gensim.models.doc2vec import LabeledSentence, Doc2Vec, TaggedDocument\n",
    "\n",
    "doc_list=[]\n",
    "dff_index=list(dff.answer)\n",
    "train_index=list(train.answer)\n",
    "\n",
    "# synopsis만 추가\n",
    "for i in range(len(dff)):\n",
    "    doc=TaggedDocument(synop_list[i], [dff_index[i]])\n",
    "    doc_list.append(doc)\n",
    "\n",
    "# train question 추가\n",
    "for i in range(len(train)):\n",
    "    doc=TaggedDocument(question_list[i], [train_index[i]])\n",
    "    doc_list.append(doc)    "
   ]
  },
  {
   "cell_type": "markdown",
   "metadata": {},
   "source": [
    "### 2) Query setting for outout"
   ]
  },
  {
   "cell_type": "code",
   "execution_count": 11,
   "metadata": {},
   "outputs": [
    {
     "name": "stdout",
     "output_type": "stream",
     "text": [
      "33.45218849182129\n"
     ]
    }
   ],
   "source": [
    "# Queary setting \n",
    "start = time.time();\n",
    "\n",
    "query_list=[]\n",
    "for q in test.question:\n",
    "    q=tw.pos(q,norm=True,stem=True)\n",
    "    word_list=[]\n",
    "    for word, tag in q:\n",
    "        if tag in ['Noun','Adjective','Verb']:\n",
    "            if len(word)>1:\n",
    "                if word not in stop_words:\n",
    "                    word_list.append(word)\n",
    "    query_list.append(word_list)\n",
    "    \n",
    "end = time.time();\n",
    "print(end-start)"
   ]
  },
  {
   "cell_type": "markdown",
   "metadata": {},
   "source": [
    "### 3) making accuracy estimate function"
   ]
  },
  {
   "cell_type": "code",
   "execution_count": 12,
   "metadata": {
    "collapsed": true
   },
   "outputs": [],
   "source": [
    "# return accuracy function\n",
    "def get_model_accuracy(model,t):\n",
    "    # query input\n",
    "    acc_list=[]\n",
    "    test_answer_list=list(test.answer)\n",
    "\n",
    "    i=0\n",
    "    for query in query_list:\n",
    "        new_vector = model.infer_vector(query,alpha=0.001)\n",
    "        sims = model.docvecs.most_similar([new_vector],topn=t)\n",
    "\n",
    "        # 정확도 구하기\n",
    "        accuracy=[]\n",
    "        output_list=[]\n",
    "    \n",
    "        for title, similarity in sims:\n",
    "            output_list.append(title)\n",
    "       \n",
    "        if test_answer_list[i] in output_list:\n",
    "            accuracy.append(1)\n",
    "        else:\n",
    "            accuracy.append(0)\n",
    "    \n",
    "        i=i+1\n",
    "\n",
    "        acc_list.append(sum(accuracy))\n",
    "\n",
    "    results=(sum(acc_list)/len(acc_list))\n",
    "    \n",
    "    return results"
   ]
  },
  {
   "cell_type": "code",
   "execution_count": null,
   "metadata": {
    "collapsed": true
   },
   "outputs": [],
   "source": [
    "# return correct index list\n",
    "def get_correct_movie_info(model):\n",
    "    # query input\n",
    "    correct_list_index=[]\n",
    "    wrong_list_index=[]\n",
    "    \n",
    "    test_answer_list=list(test.answer)\n",
    "\n",
    "    i=0\n",
    "    for query in query_list:\n",
    "        new_vector = model.infer_vector(query,alpha=0.001)\n",
    "        sims = model.docvecs.most_similar([new_vector])\n",
    "\n",
    "        # 맞춘 영화 정보 구하기\n",
    "        output_list=[]\n",
    "\n",
    "        for title, similarity in sims:\n",
    "            output_list.append(title)\n",
    "        \n",
    "        if test_answer_list[i] in output_list:\n",
    "            correct_list_index.append(i)\n",
    "        else:\n",
    "            wrong_list_index.append(i)\n",
    "            \n",
    "        i=i+1\n",
    "    \n",
    "    return correct_list_index"
   ]
  },
  {
   "cell_type": "markdown",
   "metadata": {},
   "source": [
    "### 4) parameter tuning for best parameter setting"
   ]
  },
  {
   "cell_type": "markdown",
   "metadata": {},
   "source": [
    "#### prameter \n",
    "\n",
    "dm ‘distributed memory’ (PV-DM) is used. \n",
    "size is the dimensionality of the feature vectors.  \n",
    "window is the maximum distance between the predicted word and context words used for prediction within a document.  \n",
    "alpha is the initial learning rate (will linearly drop to min_alpha as training progresses).  \n",
    "seed = for the random number generator.  \n",
    "min_count = ignore all words with total frequency lower than this.  \n",
    "iter = number of iterations (epochs) over the corpus.   \n",
    "hs = 1, hierarchical softmax will be used for model training.   \n",
    "negative = negative sampling will be used, the int for negative specifies how many “noise words” should be drawn "
   ]
  },
  {
   "cell_type": "code",
   "execution_count": 13,
   "metadata": {},
   "outputs": [
    {
     "name": "stdout",
     "output_type": "stream",
     "text": [
      "36.92737126350403\n"
     ]
    }
   ],
   "source": [
    "# modeling\n",
    "model = Doc2Vec(doc_list, alpha=0.1, size= 300, window = 6, min_count = 1, workers=1, seed = 42, iter=5, hs=1,negative=3)"
   ]
  },
  {
   "cell_type": "code",
   "execution_count": null,
   "metadata": {
    "collapsed": true
   },
   "outputs": [],
   "source": [
    "# get accuracy\n",
    "print(get_model_accuracy(model,10))"
   ]
  },
  {
   "cell_type": "markdown",
   "metadata": {},
   "source": [
    "### 5) Results analysis"
   ]
  },
  {
   "cell_type": "code",
   "execution_count": 64,
   "metadata": {
    "collapsed": true
   },
   "outputs": [],
   "source": [
    "# get correct data frame\n",
    "c=get_correct_movie_info(model)\n",
    "correct_df=test.iloc[c,:]"
   ]
  },
  {
   "cell_type": "code",
   "execution_count": 15,
   "metadata": {},
   "outputs": [
    {
     "name": "stdout",
     "output_type": "stream",
     "text": [
      "[0.5738702576718892, 0.6311019034054124, 0.6585523760196814, 0.678622297034831, 0.6926065000647417, 0.7067201864560404, 0.7126764210798913, 0.7234235400751003, 0.7261426906642496, 0.7357244594069662]\n"
     ]
    }
   ],
   "source": [
    "# make accuracy list\n",
    "acc=[]\n",
    "for i in range(1,11):\n",
    "    acc.append(get_model_accuracy(model,i))\n",
    "\n",
    "print(acc)"
   ]
  },
  {
   "cell_type": "code",
   "execution_count": 163,
   "metadata": {},
   "outputs": [
    {
     "data": {
      "image/png": "[encoded data removed]",
      "text/plain": [
       "<matplotlib.figure.Figure at 0x1dceb1c2358>"
      ]
     },
     "metadata": {},
     "output_type": "display_data"
    }
   ],
   "source": [
    "# 정답 선정 개수 기준에 따른 정확도 변화 plot\n",
    "\n",
    "#matplotlib 한글 깨짐 방지 코드\n",
    "from matplotlib import font_manager, rc\n",
    "font_name = font_manager.FontProperties(fname=\"c:/Windows/Fonts/malgun.ttf\").get_name()\n",
    "rc('font', family=font_name) \n",
    "\n",
    "# plot\n",
    "plt.plot(range(1,11), acc, color='red')\n",
    "plt.title(\"유사 문서 반환 개수에 따른 정확도 추이\",fontsize=15)\n",
    "plt.xlabel('반환 문서 개수')\n",
    "plt.ylabel('정확도')\n",
    "plt.show()"
   ]
  },
  {
   "cell_type": "code",
   "execution_count": 102,
   "metadata": {
    "collapsed": true
   },
   "outputs": [],
   "source": [
    "# \n",
    "min_c=min(correct_df['count'])\n",
    "max_c=max(correct_df['count'])\n",
    "correct_count_list=[]\n",
    "\n",
    "min_t=min(test['count'])\n",
    "max_t=max(test['count'])\n",
    "all_count_list=[]\n",
    "\n",
    "for i in range(min_c,max_c):\n",
    "    correct_count_list.append(sum(correct_df['count']==i))\n",
    "    \n",
    "for i in range(min_t,max_t):\n",
    "    all_count_list.append(sum(test['count']==i))"
   ]
  },
  {
   "cell_type": "code",
   "execution_count": 177,
   "metadata": {
    "collapsed": true
   },
   "outputs": [],
   "source": [
    "rate=[]\n",
    "for i in range(len(all_count_list)):\n",
    "    rate.append(correct_count_list[i]/(all_count_list[i]+1))"
   ]
  },
  {
   "cell_type": "code",
   "execution_count": 179,
   "metadata": {},
   "outputs": [
    {
     "data": {
      "image/png": "[encoded data removed]",
      "text/plain": [
       "<matplotlib.figure.Figure at 0x13ca6019208>"
      ]
     },
     "metadata": {},
     "output_type": "display_data"
    }
   ],
   "source": [
    "# 영화당 질문별 \n",
    "#plt.plot(range(min_t,max_t), all_count_list, color='blue')\n",
    "plt.plot(range(min_c,max_c), rate, color='red')\n",
    "plt.title(\"중복 질문 횟수에 따른 정답 개수 변화\",fontsize=15)\n",
    "plt.show()"
   ]
  },
  {
   "cell_type": "code",
   "execution_count": null,
   "metadata": {
    "collapsed": true
   },
   "outputs": [],
   "source": [
    "# plot\n",
    "plt.plot(range(1,21), acc, color='red')\n",
    "\n",
    "plt.title(\"정답 선정 개수 기준에 따른 정확도 변화 (n=1~20)\",fontsize=15)\n",
    "plt.show()"
   ]
  },
  {
   "cell_type": "markdown",
   "metadata": {},
   "source": [
    "### 6) Results (Accuracy)"
   ]
  },
  {
   "cell_type": "markdown",
   "metadata": {},
   "source": [
    "#### score board topn=20\n",
    "model = Doc2Vec(doc_list, alpha=0.1, size= 300, window = 6, min_count = 1, workers=1, seed = 42, iter=5, hs=1,negative=3) --> 77.5"
   ]
  },
  {
   "cell_type": "markdown",
   "metadata": {},
   "source": [
    "#### score board topn=10\n",
    "model = Doc2Vec(doc_list, size= 300, window = 6, min_count = 1, workers=1, seed = 42, iter=5, hs=1) --> 52.8  \n",
    "model = Doc2Vec(doc_list, alpha=0.1, size= 300, window = 6, min_count = 1, workers=1, seed = 42, iter=5, hs=1,negative=3) --> 73.5"
   ]
  },
  {
   "cell_type": "markdown",
   "metadata": {},
   "source": [
    "#### score board topn=5\n",
    "model = Doc2Vec(doc_list, alpha=0.1, size= 300, window = 6, min_count = 1, workers=1, seed = 42, iter=5, hs=1,negative=3) --> 69\n"
   ]
  },
  {
   "cell_type": "markdown",
   "metadata": {},
   "source": [
    "#### score board topn=1\n",
    "model = Doc2Vec(doc_list, alpha=0.1, size= 300, window = 6, min_count = 1, workers=1, seed = 42, iter=5, hs=1,negative=3) --> 57.3\n"
   ]
  },
  {
   "cell_type": "markdown",
   "metadata": {},
   "source": [
    "## 7) save model"
   ]
  },
  {
   "cell_type": "code",
   "execution_count": null,
   "metadata": {
    "collapsed": true
   },
   "outputs": [],
   "source": [
    "# store the model to mmap-able files\n",
    "model.save('my_model.doc2vec')\n",
    "#load the model back\n",
    "#model_loaded = Doc2Vec.load('my_model.doc2vec')"
   ]
  },
  {
   "cell_type": "code",
   "execution_count": 147,
   "metadata": {
    "collapsed": true
   },
   "outputs": [],
   "source": [
    "test2=pd.DataFrame.reset_index(test,drop=True)"
   ]
  },
  {
   "cell_type": "code",
   "execution_count": 157,
   "metadata": {},
   "outputs": [
    {
     "name": "stdout",
     "output_type": "stream",
     "text": [
      "['보이다', '할아버지', '죽다', '보상금', '받다', '도둑', '보상금', '훔치다', '들어가다', '지하', '여자', '있다', '그렇다', '스릴러', '걸깨']\n"
     ]
    }
   ],
   "source": [
    "print(query_list[6809])"
   ]
  },
  {
   "cell_type": "code",
   "execution_count": 154,
   "metadata": {
    "scrolled": true
   },
   "outputs": [
    {
     "data": {
      "text/plain": [
       "[('맨 인 더 다크', 0.1963629275560379),\n",
       " ('종횡사해', 0.1927681565284729),\n",
       " ('프리즌 히트', 0.19275511801242828),\n",
       " ('스턱', 0.18937425315380096),\n",
       " ('1408', 0.188787579536438),\n",
       " ('로스트 하이웨이', 0.17300422489643097),\n",
       " ('다크 엔젤', 0.17231591045856476),\n",
       " ('페이백', 0.16933536529541016),\n",
       " ('휴먼 센티피드', 0.16795529425144196),\n",
       " ('파커', 0.1645517796278)]"
      ]
     },
     "execution_count": 154,
     "metadata": {},
     "output_type": "execute_result"
    }
   ],
   "source": [
    "# query input\n",
    "new_vector = model.infer_vector(query_list[6809],alpha=0.001)\n",
    "sims = model.docvecs.most_similar([new_vector])\n",
    "sims"
   ]
  },
  {
   "cell_type": "code",
   "execution_count": null,
   "metadata": {
    "collapsed": true
   },
   "outputs": [],
   "source": [
    "# Pick a random document from the test corpus and infer a vector from the model\n",
    "doc_id = random.randint(0, len(test_corpus))\n",
    "inferred_vector = model.infer_vector(test_corpus[doc_id])\n",
    "sims = model.docvecs.most_similar([inferred_vector], topn=len(model.docvecs))\n",
    "\n",
    "# Compare and print the most/median/least similar documents from the train corpus\n",
    "print('Test Document ({}): «{}»\\n'.format(doc_id, ' '.join(test_corpus[doc_id])))\n",
    "print(u'SIMILAR/DISSIMILAR DOCS PER MODEL %s:\\n' % model)\n",
    "for label, index in [('MOST', 0), ('MEDIAN', len(sims)//2), ('LEAST', len(sims) - 1)]:\n",
    "    print(u'%s %s: «%s»\\n' % (label, sims[index], ' '.join(train_corpus[sims[index][0]].words)))"
   ]
  },
  {
   "cell_type": "markdown",
   "metadata": {},
   "source": [
    "# 아래는 참고 코드"
   ]
  },
  {
   "cell_type": "markdown",
   "metadata": {},
   "source": [
    "### 3) TF-IDF Synopsis"
   ]
  },
  {
   "cell_type": "code",
   "execution_count": 223,
   "metadata": {
    "collapsed": true,
    "scrolled": true
   },
   "outputs": [],
   "source": [
    "# TF-IDF 만들기 (synopsis)\n",
    "corpus=[]\n",
    "for doc in synop_list:\n",
    "    corpus.append(' '.join(doc))"
   ]
  },
  {
   "cell_type": "code",
   "execution_count": 148,
   "metadata": {
    "collapsed": true
   },
   "outputs": [],
   "source": [
    "# TF-IDF modeling\n",
    "#idf_maker=TfidfVectorizer(min_df=3)\n",
    "#tf_idf=idf_maker.fit_transform(corpus).toarray()"
   ]
  },
  {
   "cell_type": "code",
   "execution_count": null,
   "metadata": {
    "collapsed": true
   },
   "outputs": [],
   "source": [
    "idf_maker = TfidfVectorizer(min_df=2)\n",
    "tf_idf = idf_maker.fit_transform(word_list).toarray()\n",
    "tf_idf_dtm = pd.DataFrame(tf_idf, columns= idf_maker.get_feature_names(), \n",
    "                      index= ['taxi', 'gunhamdo', 'young_police', 'war_of_species', 'nomuhyun', 'summer_500', 'dung','sunshine',\n",
    "                              'annabel', 'spiderman'])\n",
    "tf_idf_dtm"
   ]
  },
  {
   "cell_type": "code",
   "execution_count": null,
   "metadata": {
    "collapsed": true
   },
   "outputs": [],
   "source": [
    "# 중복제거\n",
    "def remove_duplicates(li):\n",
    "    my_set=set()\n",
    "    res=[]\n",
    "    for e in li:\n",
    "        if e not in my_set:\n",
    "            res. append(e)\n",
    "            my_set.add(e)\n",
    "    return res"
   ]
  },
  {
   "cell_type": "markdown",
   "metadata": {},
   "source": [
    "# Babel practice code"
   ]
  },
  {
   "cell_type": "markdown",
   "metadata": {},
   "source": [
    "- 대학생 커뮤니티에서 수집한 174만개의 문장을 Step2에서의 방법으로 형태소 분석하고, 단어의 리스트 포맷으로 만듦.  \n",
    "- 포맷 : [ [\"word1/pos1\", \"word2/pos2\", \"word3/pos3\", ... ], [\"word4/pos4\", \"word5/pos5\", ... ], ... ] \n",
    "- __사정상 데이터는 공개 불가 ㅜ__"
   ]
  },
  {
   "cell_type": "markdown",
   "metadata": {},
   "source": [
    "- 앞서 만든 word2vec 모델은 기존 1-hot 벡터표현법에 비해 차원(dimension)이 상당히 줄어들었지만, 그래도 300차원..\n",
    "- 이를 평면상에 시각화해보기 위해서는 t-SNE를 이용하여 차원을 2차원으로 축소해야함.\n",
    "- t-SNE는 scikit-learn에서 제공."
   ]
  },
  {
   "cell_type": "code",
   "execution_count": 259,
   "metadata": {
    "collapsed": true
   },
   "outputs": [],
   "source": [
    "from sklearn.manifold import TSNE\n",
    "import matplotlib.pyplot as plt"
   ]
  },
  {
   "cell_type": "code",
   "execution_count": 260,
   "metadata": {
    "collapsed": true
   },
   "outputs": [],
   "source": [
    "tsne = TSNE(perplexity=30, n_components=2, init='pca', n_iter=5000) \n",
    "# 여기서 중요한 것은 n_components만큼 차원을 축소함. Cartarian 좌표계로 시각화하기 위해 2차원으로 축소."
   ]
  },
  {
   "cell_type": "code",
   "execution_count": 261,
   "metadata": {
    "collapsed": true
   },
   "outputs": [],
   "source": [
    "# numpy객체 출력시 소숫점 출력안함\n",
    "np.set_printoptions(suppress=True)"
   ]
  },
  {
   "cell_type": "code",
   "execution_count": 264,
   "metadata": {},
   "outputs": [
    {
     "ename": "AttributeError",
     "evalue": "'Word2Vec' object has no attribute 'syn0'",
     "output_type": "error",
     "traceback": [
      "\u001b[1;31m---------------------------------------------------------------------------\u001b[0m",
      "\u001b[1;31mAttributeError\u001b[0m                            Traceback (most recent call last)",
      "\u001b[1;32m<ipython-input-264-90b3659f09cf>\u001b[0m in \u001b[0;36m<module>\u001b[1;34m()\u001b[0m\n\u001b[1;32m----> 1\u001b[1;33m \u001b[0mvectors\u001b[0m \u001b[1;33m=\u001b[0m \u001b[0mmodel\u001b[0m\u001b[1;33m.\u001b[0m\u001b[0msyn0\u001b[0m\u001b[1;33m\u001b[0m\u001b[0m\n\u001b[0m\u001b[0;32m      2\u001b[0m \u001b[0mlabels\u001b[0m \u001b[1;33m=\u001b[0m \u001b[0mmodel\u001b[0m\u001b[1;33m.\u001b[0m\u001b[0mindex2word\u001b[0m\u001b[1;33m\u001b[0m\u001b[0m\n",
      "\u001b[1;31mAttributeError\u001b[0m: 'Word2Vec' object has no attribute 'syn0'"
     ]
    }
   ],
   "source": [
    "vectors = model_w2v.syn0\n",
    "labels = model_w2v.index2word"
   ]
  },
  {
   "cell_type": "code",
   "execution_count": null,
   "metadata": {
    "collapsed": true
   },
   "outputs": [],
   "source": [
    "# 이것도 오오오오오오래걸림...\n",
    "import time\n",
    "start = time.time();\n",
    "vectors_simple = tsne.fit_transform(vectors)\n",
    "end = time.time();\n",
    "print end -start"
   ]
  },
  {
   "cell_type": "code",
   "execution_count": null,
   "metadata": {
    "collapsed": true
   },
   "outputs": [],
   "source": [
    "# 차원축소된 벡터 저장.\n",
    "#with open('vectors_simple.txt', 'w') as f:\n",
    "#    pickle.dump(vectors_simple, f)"
   ]
  },
  {
   "cell_type": "code",
   "execution_count": null,
   "metadata": {
    "collapsed": true
   },
   "outputs": [],
   "source": [
    "# 저장된 벡터 불러오기.\n",
    "#with open('vectors_simple.txt', 'rb') as f:   \n",
    "#    vectors_simple = pickle.load(f)"
   ]
  },
  {
   "cell_type": "code",
   "execution_count": null,
   "metadata": {
    "collapsed": true
   },
   "outputs": [],
   "source": [
    "from bokeh.plotting import figure, show, output_notebook, output_file"
   ]
  },
  {
   "cell_type": "code",
   "execution_count": null,
   "metadata": {
    "collapsed": true
   },
   "outputs": [],
   "source": [
    "#output_file(\"word2vec_tsne.html\") # 시각화 결과물을 \"word2vec_tsne.html\" 이름으로 export\n",
    "output_notebook() # 시각화 결과물을 jupyter 노트북에 보여줌."
   ]
  },
  {
   "cell_type": "code",
   "execution_count": null,
   "metadata": {
    "collapsed": true
   },
   "outputs": [],
   "source": [
    "from bokeh.models import HoverTool, ColumnDataSource\n",
    "\n",
    "source = ColumnDataSource(\n",
    "        data=dict(\n",
    "            x=vectors_simple.T[0],\n",
    "            y=vectors_simple.T[1],\n",
    "            word=labels,\n",
    "        )\n",
    "    )\n",
    "\n",
    "\n",
    "hover = HoverTool(\n",
    "        tooltips=[\n",
    "            (\"index\", \"$index\"),\n",
    "            (\"(x,y)\", \"($x, $y)\"),\n",
    "            (\"word\", \"@word\"),\n",
    "        ]\n",
    "    )\n",
    "TOOLS = \"pan,wheel_zoom,box_zoom,reset,resize\""
   ]
  },
  {
   "cell_type": "code",
   "execution_count": null,
   "metadata": {
    "collapsed": true
   },
   "outputs": [],
   "source": [
    "p = figure(plot_width=700, plot_height=700, tools=[TOOLS,hover], title=\"Words of Univ Students\")\n",
    "p.circle('x', 'y', size=7, source=source, alpha=0.4, fill_color=\"red\", line_color=\"#ff9900\")\n",
    "\n",
    "show(p)"
   ]
  },
  {
   "cell_type": "code",
   "execution_count": null,
   "metadata": {
    "collapsed": true
   },
   "outputs": [],
   "source": [
    "# 강의 코드 \n",
    "lines=text.split('\\r\\n')\n",
    "result=[]\n",
    "for line in lines:\n",
    "    r=[]\n",
    "    malist=twitter.pos(line, norm=True, stem=True)\n",
    "    for (word, pumsa) in malist:\n",
    "        if not mumsa in ['josa']:\n",
    "            r.append(word)\n",
    "    result.append((\" \".join(r)).strip())\n",
    "    \n",
    "output=(\" \".join(results)).strip()\n",
    "\n",
    "with open('aa.txt','w', encoding='utf-8') as fp:\n",
    "    fp.write(output)\n",
    "\n",
    "data=word2vec.Linesentenc('adf.wakati')\n",
    "model=word2vec.Word2Vec(data, size=200, window=10, hs=1, min_count=2, sq=1)\n",
    "model.save(\"\")\n",
    "\n",
    "\n",
    "noun_adv_verb_only_list = [word, part for word, part in test_docs1[10][0] if part == \"Verb\" or part == \"Adjective\" or part == \"Noun\"]\n",
    "\n",
    "# unload useless memory\n",
    "model.init_sims(replace=True)\n",
    "\n",
    "# 강의 코드 \n",
    "lines=text.split('\\r\\n')\n",
    "result=[]\n",
    "for line in lines:\n",
    "    r=[]\n",
    "    malist=twitter.pos(line, norm=True, stem=True)\n",
    "    for (word, pumsa) in malist:\n",
    "        if not mumsa in ['josa']:\n",
    "            r.append(word)\n",
    "    result.append((\" \".join(r)).strip())\n",
    "    \n",
    "output=(\" \".join(results)).strip()\n"
   ]
  }
 ],
 "metadata": {
  "kernelspec": {
   "display_name": "Python 3",
   "language": "python",
   "name": "python3"
  },
  "language_info": {
   "codemirror_mode": {
    "name": "ipython",
    "version": 3
   },
   "file_extension": ".py",
   "mimetype": "text/x-python",
   "name": "python",
   "nbconvert_exporter": "python",
   "pygments_lexer": "ipython3",
   "version": "3.6.4"
  }
 },
 "nbformat": 4,
 "nbformat_minor": 2
}
