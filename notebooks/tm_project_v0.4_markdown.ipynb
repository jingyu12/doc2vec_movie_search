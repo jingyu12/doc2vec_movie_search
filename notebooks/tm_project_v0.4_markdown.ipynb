{
 "cells": [
  {
   "cell_type": "markdown",
   "metadata": {
    "toc": true
   },
   "source": [
    "<h1>Table of Contents<span class=\"tocSkip\"></span></h1>\n",
    "<div class=\"toc\"><ul class=\"toc-item\"><li><span><a href=\"#Tokenize-and-Extract-words\" data-toc-modified-id=\"Tokenize-and-Extract-words-1\"><span class=\"toc-item-num\">1&nbsp;&nbsp;</span>Tokenize and Extract words</a></span><ul class=\"toc-item\"><li><span><a href=\"#make-tagger\" data-toc-modified-id=\"make-tagger-1.1\"><span class=\"toc-item-num\">1.1&nbsp;&nbsp;</span>make tagger</a></span></li><li><span><a href=\"#make-movie-title,-code-dictionary\" data-toc-modified-id=\"make-movie-title,-code-dictionary-1.2\"><span class=\"toc-item-num\">1.2&nbsp;&nbsp;</span>make movie title, code dictionary</a></span></li><li><span><a href=\"#cutoff\" data-toc-modified-id=\"cutoff-1.3\"><span class=\"toc-item-num\">1.3&nbsp;&nbsp;</span>cutoff</a></span></li><li><span><a href=\"#basic-cutoff-&gt;1\" data-toc-modified-id=\"basic-cutoff->1-1.4\"><span class=\"toc-item-num\">1.4&nbsp;&nbsp;</span>basic cutoff &gt;1</a></span></li><li><span><a href=\"#tokenizing\" data-toc-modified-id=\"tokenizing-1.5\"><span class=\"toc-item-num\">1.5&nbsp;&nbsp;</span>tokenizing</a></span></li><li><span><a href=\"#reset-cutoff\" data-toc-modified-id=\"reset-cutoff-1.6\"><span class=\"toc-item-num\">1.6&nbsp;&nbsp;</span>reset cutoff</a></span></li><li><span><a href=\"#split-data\" data-toc-modified-id=\"split-data-1.7\"><span class=\"toc-item-num\">1.7&nbsp;&nbsp;</span>split data</a></span></li></ul></li><li><span><a href=\"#Word-embedding\" data-toc-modified-id=\"Word-embedding-2\"><span class=\"toc-item-num\">2&nbsp;&nbsp;</span>Word embedding</a></span><ul class=\"toc-item\"><li><span><a href=\"#Word2vec\" data-toc-modified-id=\"Word2vec-2.1\"><span class=\"toc-item-num\">2.1&nbsp;&nbsp;</span>Word2vec</a></span></li><li><span><a href=\"#word2vec-parameters\" data-toc-modified-id=\"word2vec-parameters-2.2\"><span class=\"toc-item-num\">2.2&nbsp;&nbsp;</span>word2vec parameters</a></span></li><li><span><a href=\"#word2vec-modeling\" data-toc-modified-id=\"word2vec-modeling-2.3\"><span class=\"toc-item-num\">2.3&nbsp;&nbsp;</span>word2vec modeling</a></span></li><li><span><a href=\"#get-vectors\" data-toc-modified-id=\"get-vectors-2.4\"><span class=\"toc-item-num\">2.4&nbsp;&nbsp;</span>get vectors</a></span></li><li><span><a href=\"#word2vec-visualization\" data-toc-modified-id=\"word2vec-visualization-2.5\"><span class=\"toc-item-num\">2.5&nbsp;&nbsp;</span>word2vec visualization</a></span></li><li><span><a href=\"#word2vec-evaluation-metrics---ranking-based\" data-toc-modified-id=\"word2vec-evaluation-metrics---ranking-based-2.6\"><span class=\"toc-item-num\">2.6&nbsp;&nbsp;</span>word2vec evaluation metrics - ranking based</a></span></li><li><span><a href=\"#word2vec-evaluation-metrics---Roc-curve\" data-toc-modified-id=\"word2vec-evaluation-metrics---Roc-curve-2.7\"><span class=\"toc-item-num\">2.7&nbsp;&nbsp;</span>word2vec evaluation metrics - Roc curve</a></span></li><li><span><a href=\"#word2vec-evaluation-metrics---Precision_recall\" data-toc-modified-id=\"word2vec-evaluation-metrics---Precision_recall-2.8\"><span class=\"toc-item-num\">2.8&nbsp;&nbsp;</span>word2vec evaluation metrics - Precision_recall</a></span></li></ul></li><li><span><a href=\"#Doc2vec\" data-toc-modified-id=\"Doc2vec-3\"><span class=\"toc-item-num\">3&nbsp;&nbsp;</span>Doc2vec</a></span><ul class=\"toc-item\"><li><span><a href=\"#Make-Labeled-sentence\" data-toc-modified-id=\"Make-Labeled-sentence-3.1\"><span class=\"toc-item-num\">3.1&nbsp;&nbsp;</span>Make Labeled sentence</a></span></li><li><span><a href=\"#Doc2vec-modeling\" data-toc-modified-id=\"Doc2vec-modeling-3.2\"><span class=\"toc-item-num\">3.2&nbsp;&nbsp;</span>Doc2vec modeling</a></span></li><li><span><a href=\"#get-infer-vector\" data-toc-modified-id=\"get-infer-vector-3.3\"><span class=\"toc-item-num\">3.3&nbsp;&nbsp;</span>get infer vector</a></span></li><li><span><a href=\"#visualization\" data-toc-modified-id=\"visualization-3.4\"><span class=\"toc-item-num\">3.4&nbsp;&nbsp;</span>visualization</a></span></li><li><span><a href=\"#Doc2vec-evaluation-metrics---Top-n-accuracy\" data-toc-modified-id=\"Doc2vec-evaluation-metrics---Top-n-accuracy-3.5\"><span class=\"toc-item-num\">3.5&nbsp;&nbsp;</span>Doc2vec evaluation metrics - Top-n accuracy</a></span></li><li><span><a href=\"#top5-10\" data-toc-modified-id=\"top5-10-3.6\"><span class=\"toc-item-num\">3.6&nbsp;&nbsp;</span>top5-10</a></span></li><li><span><a href=\"#Doc2vec-evaluation-metrics---Roc-curve\" data-toc-modified-id=\"Doc2vec-evaluation-metrics---Roc-curve-3.7\"><span class=\"toc-item-num\">3.7&nbsp;&nbsp;</span>Doc2vec evaluation metrics - Roc curve</a></span></li><li><span><a href=\"#another-trial-for-roc-curve\" data-toc-modified-id=\"another-trial-for-roc-curve-3.8\"><span class=\"toc-item-num\">3.8&nbsp;&nbsp;</span>another trial for roc curve</a></span></li><li><span><a href=\"#precision-recall-curve\" data-toc-modified-id=\"precision-recall-curve-3.9\"><span class=\"toc-item-num\">3.9&nbsp;&nbsp;</span>precision recall curve</a></span></li></ul></li><li><span><a href=\"#3.-So.....-what?\" data-toc-modified-id=\"3.-So.....-what?-4\"><span class=\"toc-item-num\">4&nbsp;&nbsp;</span>3. So..... what?</a></span></li></ul></div>"
   ]
  },
  {
   "cell_type": "markdown",
   "metadata": {},
   "source": [
    "# TM PROJECT modeling"
   ]
  },
  {
   "cell_type": "markdown",
   "metadata": {},
   "source": [
    "read data"
   ]
  },
  {
   "cell_type": "code",
   "execution_count": 1,
   "metadata": {},
   "outputs": [],
   "source": [
    "import numpy as np\n",
    "import pandas as pd\n",
    "import os,pickle,re,time\n",
    "import matplotlib.pyplot as plt\n",
    "import seaborn as sns\n",
    "from datetime import timedelta\n",
    "\n",
    "%matplotlib inline\n",
    "\n",
    "os.chdir('D:/UNIST/18-1학기 자료/tm')"
   ]
  },
  {
   "cell_type": "code",
   "execution_count": 2,
   "metadata": {},
   "outputs": [],
   "source": [
    "# read data\n",
    "#df=pd.read_csv('df_cleaned.csv',index_col=0)\n",
    "df=pd.read_csv('df_cleaned2.csv',index_col=0)\n",
    "\n",
    "#df=pd.read_csv('formodeling.csv',encoding='cp949').iloc[:,2:-5] # old version\n",
    "#df=pd.read_csv('question_answer.csv',encoding='utf-8')          # raw data"
   ]
  },
  {
   "cell_type": "markdown",
   "metadata": {},
   "source": [
    "## Tokenize and Extract words"
   ]
  },
  {
   "cell_type": "markdown",
   "metadata": {},
   "source": [
    "read stop word text"
   ]
  },
  {
   "cell_type": "code",
   "execution_count": 3,
   "metadata": {},
   "outputs": [],
   "source": [
    "# stop words read\n",
    "with open('stop_words.txt', 'rb') as f:\n",
    "    stop_words = pickle.load(f) "
   ]
  },
  {
   "cell_type": "markdown",
   "metadata": {},
   "source": [
    "### make tagger"
   ]
  },
  {
   "cell_type": "code",
   "execution_count": 4,
   "metadata": {},
   "outputs": [],
   "source": [
    "# get twitter tagger\n",
    "from konlpy.tag import Twitter\n",
    "tw=Twitter()\n",
    "\n",
    "# 필요한 단어만 남기기 nouns\n",
    "def twitter_nouns(text):\n",
    "    result=tw.nouns(text)\n",
    "    result=[word for word in result if len(word)>1]\n",
    "    \n",
    "    # delete stop words\n",
    "    result=[word for word in result if word not in stop_words]\n",
    "    return result\n",
    "\n",
    "# 필요한 단어만 남기기 pos tagging 후 noun, adj, verb만 남기기\n",
    "# 단어 길이 1> 필터링\n",
    "def twitter_pos(text):\n",
    "    pos=tw.pos(text,norm=True, stem=True)\n",
    "    result=[word for word,tag in pos if tag in ['Noun','Adjective','Verb','Number']]\n",
    "    result=[word for word in result if len(word)>1]\n",
    "    \n",
    "    # delete stop words\n",
    "    result=[word for word in result if word not in stop_words]\n",
    "    return result"
   ]
  },
  {
   "cell_type": "markdown",
   "metadata": {},
   "source": [
    "### make movie title, code dictionary"
   ]
  },
  {
   "cell_type": "code",
   "execution_count": 5,
   "metadata": {},
   "outputs": [
    {
     "name": "stdout",
     "output_type": "stream",
     "text": [
      "sample examples of dictionary \n",
      "\n"
     ]
    },
    {
     "data": {
      "text/plain": [
       "{'144944': '맨 인 더 다크',\n",
       " '151196': '원더',\n",
       " '19462': '모넬라',\n",
       " '34076': '에너미 라인스',\n",
       " '44982': '오퍼나지 - 비밀의 계단'}"
      ]
     },
     "execution_count": 5,
     "metadata": {},
     "output_type": "execute_result"
    }
   ],
   "source": [
    "# select movie\n",
    "movie=df.iloc[:,[0,2,4]]\n",
    "movie=movie.drop_duplicates().reset_index(drop=True)\n",
    "movie=movie[movie.synopsis!='None'].reset_index(drop=True)\n",
    "\n",
    "# movie code, movie title dictionary\n",
    "movie_code_dictionary=dict(zip(movie.code,movie.movie))\n",
    "\n",
    "print('sample examples of dictionary \\n')\n",
    "dict(list(movie_code_dictionary.items())[0:5])"
   ]
  },
  {
   "cell_type": "markdown",
   "metadata": {},
   "source": [
    "### cutoff"
   ]
  },
  {
   "cell_type": "code",
   "execution_count": 10,
   "metadata": {},
   "outputs": [
    {
     "data": {
      "text/plain": [
       "Text(0,0.5,'percent')"
      ]
     },
     "execution_count": 10,
     "metadata": {},
     "output_type": "execute_result"
    },
    {
     "data": {
      "image/png": "[encoded data removed]",
      "text/plain": [
       "<matplotlib.figure.Figure at 0x249d2a00e80>"
      ]
     },
     "metadata": {},
     "output_type": "display_data"
    }
   ],
   "source": [
    "# cutoff 값 변화에 따른 사용하는 데이터 양 변화 추이\n",
    "\n",
    "p_use_uniq_movie=[sum(df.code.value_counts()[df.code.value_counts().values>i])/len(df) for i in range(30)]\n",
    "p_use_question=[sum(df.code.value_counts().values>i)/len(df.code.value_counts().values) for i in range(30)]\n",
    "\n",
    "#plt.style.use('ggplot')\n",
    "plt.figure(figsize=(10,5))\n",
    "\n",
    "plt.title('percent of using question (green) vs unique movies (blue)',fontsize=15)\n",
    "plt.plot(p_use_question)\n",
    "plt.plot(p_use_uniq_movie)\n",
    "\n",
    "plt.axvline(x=3, color = 'r') \n",
    "plt.xlabel('cutoff')\n",
    "plt.ylabel('percent')"
   ]
  },
  {
   "cell_type": "markdown",
   "metadata": {},
   "source": [
    "### basic cutoff >1"
   ]
  },
  {
   "cell_type": "code",
   "execution_count": 6,
   "metadata": {},
   "outputs": [
    {
     "name": "stdout",
     "output_type": "stream",
     "text": [
      "dataset shape : (33518, 6)\n"
     ]
    }
   ],
   "source": [
    "def delete_only_one_movie(df):\n",
    "    # 중복 등장한 횟수로 새로운 변수 생성 \n",
    "    count_dict=dict(df.code.value_counts())\n",
    "    df['q_count']=df.code.map(count_dict)\n",
    "\n",
    "    # n 번만 등장한 영화 재거\n",
    "    df=df[df['q_count']>1]\n",
    "    print('dataset shape :',df.shape)\n",
    "    return df.reset_index(drop=True)\n",
    "\n",
    "df=delete_only_one_movie(df)"
   ]
  },
  {
   "cell_type": "markdown",
   "metadata": {},
   "source": [
    "### tokenizing"
   ]
  },
  {
   "cell_type": "code",
   "execution_count": 7,
   "metadata": {},
   "outputs": [
    {
     "name": "stdout",
     "output_type": "stream",
     "text": [
      "Wall time: 2min 37s\n"
     ]
    }
   ],
   "source": [
    "%%time\n",
    "tokenizing_model=twitter_pos\n",
    "\n",
    "# apply tokenizing model and make new columns\n",
    "df['q_phrase']=df.question.apply(tokenizing_model)\n",
    "movie['q_phrase']=movie.synopsis.apply(tokenizing_model)\n",
    "\n",
    "# it will take about 3min"
   ]
  },
  {
   "cell_type": "markdown",
   "metadata": {},
   "source": [
    "### reset cutoff"
   ]
  },
  {
   "cell_type": "code",
   "execution_count": 8,
   "metadata": {},
   "outputs": [
    {
     "name": "stdout",
     "output_type": "stream",
     "text": [
      "cut off value is : 3\n",
      "number of data : 28275\n"
     ]
    }
   ],
   "source": [
    "def delete_only_one_movie(df,cutoff_value):\n",
    "    # 중복 등장한 횟수로 새로운 변수 생성 \n",
    "    \n",
    "    # 10개 이상 tag를 가진 질문만 남김\n",
    "    df['tag_len']=df.q_phrase.apply(lambda x: len(x))\n",
    "    df=df.query('tag_len>=10').reset_index(drop=True)\n",
    "    \n",
    "    # n 번만 등장한 영화 제거\n",
    "    count_dict=dict(df.code.value_counts())\n",
    "    df['q_count']=df.code.map(count_dict)\n",
    "    df=df[df['q_count']>cutoff_value]\n",
    "    \n",
    "    print('cut off value is :',cutoff_value)\n",
    "    print('number of data :',len(df))\n",
    "    return df.loc[:,['code','q_phrase','question']].reset_index(drop=True)\n",
    "\n",
    "\n",
    "# set cutoff value\n",
    "cutoff_value=3\n",
    "q=delete_only_one_movie(df,cutoff_value)"
   ]
  },
  {
   "cell_type": "markdown",
   "metadata": {},
   "source": [
    "### split data"
   ]
  },
  {
   "cell_type": "code",
   "execution_count": 9,
   "metadata": {},
   "outputs": [
    {
     "name": "stdout",
     "output_type": "stream",
     "text": [
      "unique number of movie in train data:  2021\n",
      "unique number of movie in test data:  2021 \n",
      "\n",
      "train data shape:  (22620, 3)\n",
      "test data shape:  (5655, 3)\n"
     ]
    }
   ],
   "source": [
    "from sklearn.model_selection import train_test_split\n",
    "\n",
    "# split train test data (stratified)\n",
    "train,test = train_test_split(q, random_state=42, train_size=0.8, test_size=0.2, stratify=q.code)\n",
    "\n",
    "train=train.reset_index(drop=True)\n",
    "test=test.reset_index(drop=True)\n",
    "\n",
    "print('unique number of movie in train data: ',len(train.code.unique()))\n",
    "print('unique number of movie in test data: ',len(test.code.unique()),'\\n')\n",
    "print('train data shape: ',train.shape)\n",
    "print('test data shape: ',test.shape)"
   ]
  },
  {
   "cell_type": "markdown",
   "metadata": {},
   "source": [
    "## Word embedding"
   ]
  },
  {
   "cell_type": "markdown",
   "metadata": {},
   "source": [
    "### Word2vec"
   ]
  },
  {
   "cell_type": "markdown",
   "metadata": {},
   "source": [
    "insert movie code in every 5 tag"
   ]
  },
  {
   "cell_type": "code",
   "execution_count": 70,
   "metadata": {},
   "outputs": [],
   "source": [
    "import itertools, operator\n",
    "from gensim.models import KeyedVectors\n",
    "from gensim.models.word2vec import Word2Vec\n",
    "from sklearn.metrics.pairwise import cosine_similarity\n",
    "\n",
    "# input : movie code\n",
    "# output : code inserted tag list\n",
    "# inserted movie code in every 5 tag  \n",
    "\n",
    "def insert_code_q(code):\n",
    "    q_a_dict=dict(zip(train.code,train.q_phrase))\n",
    "    l=q_a_dict.get(code)\n",
    "    \n",
    "    n=5\n",
    "    splited=[l[i:i+n] for i in range(0, len(l), n)]\n",
    "    \n",
    "    # insert tag\n",
    "    for i in splited:\n",
    "        i.append(code)\n",
    "    \n",
    "    # merge list in list to list\n",
    "    merged = list(itertools.chain(*splited))\n",
    "    return merged"
   ]
  },
  {
   "cell_type": "code",
   "execution_count": 71,
   "metadata": {},
   "outputs": [
    {
     "name": "stdout",
     "output_type": "stream",
     "text": [
      "Wall time: 50.3 s\n"
     ]
    }
   ],
   "source": [
    "%%time\n",
    "\n",
    "# make corpus for word2vec\n",
    "w_corpus=train.code.apply(insert_code_q)"
   ]
  },
  {
   "cell_type": "markdown",
   "metadata": {},
   "source": [
    "### word2vec parameters"
   ]
  },
  {
   "cell_type": "raw",
   "metadata": {},
   "source": [
    "sg (int {1, 0}) – Defines the training algorithm. If 1, skip-gram is employed; otherwise, CBOW is used.\n",
    "size (int) – Dimensionality of the feature vectors.\n",
    "window (int) – The maximum distance between the current and predicted word within a sentence.\n",
    "alpha (float) – The initial learning rate.\n",
    "hs (int {1,0}) – If 1, hierarchical softmax will be used for model training. If set to 0, and negative is non-zero, negative sampling will be used.\n",
    "negative (int) – If > 0, negative sampling will be used, the int for negative specifies how many “noise words” should be drawn (usually between 5-20). If set to 0, no negative sampling is used.\n",
    "iter (int) – Number of iterations (epochs) over the corpus."
   ]
  },
  {
   "cell_type": "markdown",
   "metadata": {},
   "source": [
    "### word2vec modeling"
   ]
  },
  {
   "cell_type": "code",
   "execution_count": 72,
   "metadata": {},
   "outputs": [
    {
     "name": "stdout",
     "output_type": "stream",
     "text": [
      "Training model...\n",
      "Wall time: 36.3 s\n"
     ]
    }
   ],
   "source": [
    "%%time\n",
    "\n",
    "# word2vec modeling\n",
    "print('Training model...')\n",
    "\n",
    "w_model=Word2Vec(w_corpus,sg=1,workers=4, min_count=5, size=300, window=10, seed = 42, iter=5, hs=1,negative=3)\n",
    "#model=Word2Vec(w_corpus,sg=1,workers=4, min_count=5, size=300, window=10, seed = 42, iter=5, hs=1,negative=3)"
   ]
  },
  {
   "cell_type": "markdown",
   "metadata": {},
   "source": [
    "### get vectors"
   ]
  },
  {
   "cell_type": "code",
   "execution_count": 73,
   "metadata": {},
   "outputs": [],
   "source": [
    "# make documnet vector \n",
    "# using every word in test set except words not in corpus\n",
    "# get embedding vectors for every words\n",
    "# sum of all word vectors in one document --> document vector\n",
    "# return document vector\n",
    "\n",
    "def get_documnet_vector(question):\n",
    "    doc_vec=[]\n",
    "    q_len=len(question)\n",
    "    for word in question:\n",
    "        try:\n",
    "            doc_vec.append(w_model.wv[word])  \n",
    "        except:\n",
    "            pass # corpus에 없는 단어는 pass\n",
    "    return sum(doc_vec)\n",
    "\n",
    "# input code and get code vector \n",
    "def get_code_vector(test):\n",
    "    unique_code=list(test.code.unique())\n",
    "    code_vec_list=[w_model.wv[i] for i in unique_code]\n",
    "    return code_vec_list"
   ]
  },
  {
   "cell_type": "code",
   "execution_count": 74,
   "metadata": {},
   "outputs": [
    {
     "name": "stdout",
     "output_type": "stream",
     "text": [
      "the number of unique movies in test set :  2021\n",
      "the number of questions in test set :  5655\n"
     ]
    }
   ],
   "source": [
    "# get movie code vector, document vector in test set \n",
    "code_vec_list=get_code_vector(test)\n",
    "test_vec=test.q_phrase.apply(get_documnet_vector)\n",
    "\n",
    "print('the number of unique movies in test set : ', len(code_vec_list))\n",
    "print('the number of questions in test set : ', len(test_vec))"
   ]
  },
  {
   "cell_type": "markdown",
   "metadata": {},
   "source": [
    "### word2vec visualization"
   ]
  },
  {
   "cell_type": "code",
   "execution_count": 20,
   "metadata": {},
   "outputs": [],
   "source": [
    "from sklearn.manifold import TSNE\n",
    "\n",
    "def tsne_plot(model):\n",
    "    \"Creates and TSNE model and plots it\"\n",
    "    labels = []\n",
    "    tokens = []\n",
    "\n",
    "    for word in model.wv.vocab:\n",
    "        tokens.append(model[word])\n",
    "        labels.append(word)\n",
    "    \n",
    "    tsne_model = TSNE(perplexity=40, n_components=2, init='pca', n_iter=2500, random_state=23)\n",
    "    new_values = tsne_model.fit_transform(tokens)\n",
    "\n",
    "    x = []\n",
    "    y = []\n",
    "    for value in new_values:\n",
    "        x.append(value[0])\n",
    "        y.append(value[1])\n",
    "        \n",
    "    plt.figure(figsize=(16, 16)) \n",
    "    for i in range(len(x)):\n",
    "        plt.scatter(x[i],y[i])\n",
    "        plt.annotate(labels[i],\n",
    "                     xy=(x[i], y[i]),\n",
    "                     xytext=(5, 2),\n",
    "                     textcoords='offset points',\n",
    "                     ha='right',\n",
    "                     va='bottom')\n",
    "    plt.show()"
   ]
  },
  {
   "cell_type": "code",
   "execution_count": 38,
   "metadata": {},
   "outputs": [],
   "source": [
    "from matplotlib import font_manager, rc\n",
    "font_name = font_manager.FontProperties(fname=\"c:/Windows/Fonts/malgun.ttf\").get_name()\n",
    "rc('font', family=font_name)\n",
    "\n",
    "tsne_plot(w_model)"
   ]
  },
  {
   "cell_type": "markdown",
   "metadata": {},
   "source": [
    "### word2vec evaluation metrics - ranking based"
   ]
  },
  {
   "cell_type": "code",
   "execution_count": 116,
   "metadata": {},
   "outputs": [],
   "source": [
    "def get_similarity_dictionary_w2v(test_vec):\n",
    "    w_model.random.seed(23)                    # set seed\n",
    "    uniq_category=test.code.unique()    \n",
    "    \n",
    "    # get cosine similarity between one document and every unique movie code\n",
    "    sim_list=[cosine_similarity(i.reshape(1,-1),test_vec.reshape(1,-1)).flatten()[0] for i in code_vec_list]\n",
    "    \n",
    "    sim_dict=dict(zip(uniq_category,sim_list))                                  # make dictionary - unique_test_code code and cosine similarity result list\n",
    "    return sim_dict"
   ]
  },
  {
   "cell_type": "code",
   "execution_count": 117,
   "metadata": {},
   "outputs": [
    {
     "name": "stdout",
     "output_type": "stream",
     "text": [
      "Wall time: 18min 10s\n"
     ]
    }
   ],
   "source": [
    "%%time\n",
    "\n",
    "# it takes long..\n",
    "sim_dic=pd.Series(test_vec).apply(get_similarity_dictionary_w2v)"
   ]
  },
  {
   "cell_type": "code",
   "execution_count": 525,
   "metadata": {},
   "outputs": [],
   "source": [
    "pd.to_pickle(sim_dic,'sim_dic.txt')"
   ]
  },
  {
   "cell_type": "code",
   "execution_count": 77,
   "metadata": {},
   "outputs": [],
   "source": [
    "sim_dic=pd.read_pickle('sim_dic.txt')"
   ]
  },
  {
   "cell_type": "code",
   "execution_count": 88,
   "metadata": {},
   "outputs": [],
   "source": [
    "# 각 code별 벡터와 document와의 cosine similarity 구하기\n",
    "def get_most_similar_code_w2v(sim_dic):\n",
    "    # make dictionary - unique_test_code code and cosine similarity result list\n",
    "    sims = sorted(sim_dic.items(), key=operator.itemgetter(1), reverse=True)[:10]  # sorting based on similarity (top n)\n",
    "    sim_code = [code for code, sim in sims]                                        # left only code\n",
    "    return sim_code\n",
    "\n",
    "\n",
    "# apply get_most_similar_code_w2v function on sim_dic\n",
    "# if the code is in list --> 1 else --> 0\n",
    "# return accuracy of the dataset\n",
    "\n",
    "def get_acc_w2v(sim_dic,n):\n",
    "    sim_code=list(sim_dic.apply(get_most_similar_code_w2v))\n",
    "    code_list=list(test.code)\n",
    "    acc=[code_list[i] in sim_code[i][:n] for i in range(len(sim_code))]\n",
    "    return sum(acc)/len(acc)"
   ]
  },
  {
   "cell_type": "code",
   "execution_count": 89,
   "metadata": {},
   "outputs": [
    {
     "name": "stdout",
     "output_type": "stream",
     "text": [
      "Accuracy based on cosine similarity ranking (top 5) \n",
      "\n",
      "test set accuracy :  0.16357206012378425\n",
      "Wall time: 3.97 s\n"
     ]
    }
   ],
   "source": [
    "%%time\n",
    "\n",
    "print('Accuracy based on cosine similarity ranking (top 5) \\n')\n",
    "print('test set accuracy : ',get_acc_w2v(sim_dic,5))"
   ]
  },
  {
   "cell_type": "code",
   "execution_count": 92,
   "metadata": {},
   "outputs": [],
   "source": [
    "result_wv=[get_acc_w2v(sim_dic,i) for i in range(1,11)]"
   ]
  },
  {
   "cell_type": "code",
   "execution_count": 106,
   "metadata": {},
   "outputs": [
    {
     "data": {
      "text/plain": [
       "0.15819628647214856"
      ]
     },
     "execution_count": 106,
     "metadata": {},
     "output_type": "execute_result"
    }
   ],
   "source": [
    "np.mean(result_wv)"
   ]
  },
  {
   "cell_type": "code",
   "execution_count": 98,
   "metadata": {},
   "outputs": [
    {
     "data": {
      "text/plain": [
       "Text(0,0.5,'Accuracy')"
      ]
     },
     "execution_count": 98,
     "metadata": {},
     "output_type": "execute_result"
    },
    {
     "data": {
      "image/png": "[encoded data removed]",
      "text/plain": [
       "<matplotlib.figure.Figure at 0x1ad9d5cb898>"
      ]
     },
     "metadata": {},
     "output_type": "display_data"
    }
   ],
   "source": [
    "plt.title('Top-n accuracy')\n",
    "plt.plot(range(1,11),result_wv)\n",
    "plt.xlabel('Top-n')\n",
    "plt.ylabel('Accuracy')"
   ]
  },
  {
   "cell_type": "markdown",
   "metadata": {},
   "source": [
    "### word2vec evaluation metrics - Roc curve"
   ]
  },
  {
   "cell_type": "code",
   "execution_count": 80,
   "metadata": {},
   "outputs": [],
   "source": [
    "from sklearn.preprocessing import label_binarize\n",
    "from sklearn.metrics import roc_curve, auc\n",
    "from sklearn import metrics\n",
    "from itertools import cycle\n",
    "from scipy import interp"
   ]
  },
  {
   "cell_type": "code",
   "execution_count": 102,
   "metadata": {},
   "outputs": [],
   "source": [
    "def get_similarity_matrix_w2v(sim_dic):\n",
    "    uniq_category=test.code.unique()  \n",
    "    matrix =[np.array(pd.Series(uniq_category).map(i)) for i in sim_dic]\n",
    "    \n",
    "    return np.array(matrix)"
   ]
  },
  {
   "cell_type": "code",
   "execution_count": null,
   "metadata": {},
   "outputs": [],
   "source": [
    "def another_roc(label_y,sim_matrix):\n",
    "    result=label_y*sim_matrix\n",
    "    y_true=test.code\n",
    "    y_score=np.sum(result, axis=1)\n",
    "    \n",
    "    sim_test=sim_matrix/np.sum(sim_matrix,axis=0)\n",
    "\n",
    "    true_index=[np.argmax(result[i]) for i in range(result.shape[0])]\n",
    "    \n",
    "    auc_list=[]\n",
    "    for i in range(result.shape[0]):\n",
    "        fpr, tpr, thresholds = roc_curve(y_true.unique(), sim_test[i], pos_label=y_true.unique()[true_index[i]]  )\n",
    "        #plt.plot(fpr,tpr)\n",
    "        auc_list.append(metrics.auc(fpr, tpr))\n",
    "        \n",
    "    return auc_list"
   ]
  },
  {
   "cell_type": "code",
   "execution_count": 103,
   "metadata": {},
   "outputs": [],
   "source": [
    "%%time\n",
    "\n",
    "sim_matrix=get_similarity_matrix_w2v(sim_dic)\n",
    "\n",
    "# it takes about 18 min\n",
    "\n",
    "# normalize similairty matrix\n",
    "res=[sim_matrix[i]/np.sum(sim_matrix,axis=1)[i] for i in range(sim_matrix.shape[0])]\n",
    "sim_test=np.array(res).reshape(sim_matrix.shape[0],-1)"
   ]
  },
  {
   "cell_type": "markdown",
   "metadata": {},
   "source": [
    "### word2vec evaluation metrics - Precision_recall"
   ]
  },
  {
   "cell_type": "code",
   "execution_count": 498,
   "metadata": {},
   "outputs": [
    {
     "name": "stdout",
     "output_type": "stream",
     "text": [
      "Average precision score, micro-averaged over all classes: 0.02\n"
     ]
    }
   ],
   "source": [
    "from sklearn.metrics import precision_recall_curve\n",
    "from sklearn.metrics import average_precision_score\n",
    "\n",
    "# For each class\n",
    "precision = dict()\n",
    "recall = dict()\n",
    "average_precision = dict()\n",
    "for i in range(n_classes):\n",
    "    precision[i], recall[i], _ = precision_recall_curve(label_y[:, i], sim_test[:, i])\n",
    "    average_precision[i] = average_precision_score(label_y[:, i], sim_test[:, i])\n",
    "\n",
    "# A \"micro-average\": quantifying score on all classes jointly\n",
    "precision[\"micro\"], recall[\"micro\"], _ = precision_recall_curve(label_y.ravel(),\n",
    "    sim_test.ravel())\n",
    "average_precision[\"micro\"] = average_precision_score(label_y, sim_test,\n",
    "                                                     average=\"micro\")\n",
    "print('Average precision score, micro-averaged over all classes: {0:0.2f}'\n",
    "      .format(average_precision[\"micro\"]))"
   ]
  },
  {
   "cell_type": "code",
   "execution_count": 447,
   "metadata": {},
   "outputs": [
    {
     "data": {
      "text/plain": [
       "Text(0.5,1,'Average precision score, micro-averaged over all classes: AP=0.02')"
      ]
     },
     "execution_count": 447,
     "metadata": {},
     "output_type": "execute_result"
    },
    {
     "data": {
      "image/png": "[encoded data removed]",
      "text/plain": [
       "<matplotlib.figure.Figure at 0x177d43d2b00>"
      ]
     },
     "metadata": {},
     "output_type": "display_data"
    }
   ],
   "source": [
    "plt.figure(figsize=(8,8))\n",
    "plt.step(recall['micro'], precision['micro'], color='b', alpha=0.2,\n",
    "         where='post')\n",
    "plt.fill_between(recall[\"micro\"], precision[\"micro\"], step='post', alpha=0.2,\n",
    "                 color='b')\n",
    "\n",
    "plt.xlabel('Recall')\n",
    "plt.ylabel('Precision')\n",
    "plt.ylim([0.0, 1.05])\n",
    "plt.xlim([0.0, 1.0])\n",
    "plt.title(\n",
    "    'Average precision score, micro-averaged over all classes: AP={0:0.2f}'\n",
    "    .format(average_precision[\"micro\"]))"
   ]
  },
  {
   "cell_type": "code",
   "execution_count": 104,
   "metadata": {},
   "outputs": [
    {
     "name": "stdout",
     "output_type": "stream",
     "text": [
      "the number of questions in test set :  5655\n",
      "the number of unique movie code in test set :  2021\n",
      "dimension of label after one-hot-encoding :  (5655, 2021)\n"
     ]
    }
   ],
   "source": [
    "uniq_category=test.code.unique()\n",
    "n_classes=len(uniq_category)\n",
    "\n",
    "# one-hot-encoding testset movie code\n",
    "label_y=label_binarize(np.array(test.code),classes=uniq_category)\n",
    "\n",
    "print('the number of questions in test set : ',len(test))\n",
    "print('the number of unique movie code in test set : ',n_classes)\n",
    "print('dimension of label after one-hot-encoding : ',label_y.shape)"
   ]
  },
  {
   "cell_type": "code",
   "execution_count": 262,
   "metadata": {},
   "outputs": [],
   "source": [
    "# Compute ROC curve and ROC area for each class\n",
    "fpr = dict()\n",
    "tpr = dict()\n",
    "roc_auc = dict()\n",
    "for i in range(n_classes):\n",
    "    fpr[i], tpr[i], _ = roc_curve(label_y[:, i], sim_test[:, i])\n",
    "    roc_auc[i] = auc(fpr[i], tpr[i])\n",
    "\n",
    "# Compute micro-average ROC curve and ROC area\n",
    "fpr[\"micro\"], tpr[\"micro\"], _ = roc_curve(label_y.ravel(), sim_test.ravel())\n",
    "roc_auc[\"micro\"] = auc(fpr[\"micro\"], tpr[\"micro\"])"
   ]
  },
  {
   "cell_type": "code",
   "execution_count": 438,
   "metadata": {},
   "outputs": [
    {
     "data": {
      "image/png": "[encoded data removed]",
      "text/plain": [
       "<matplotlib.figure.Figure at 0x177d40e9400>"
      ]
     },
     "metadata": {},
     "output_type": "display_data"
    }
   ],
   "source": [
    "# Compute macro-average ROC curve and ROC area\n",
    "# First aggregate all false positive rates\n",
    "all_fpr = np.unique(np.concatenate([fpr[i] for i in range(n_classes)]))\n",
    "lw = 2\n",
    "# Then interpolate all ROC curves at this points\n",
    "mean_tpr = np.zeros_like(all_fpr)\n",
    "for i in range(n_classes):\n",
    "    mean_tpr += interp(all_fpr, fpr[i], tpr[i])\n",
    "\n",
    "# Finally average it and compute AUC\n",
    "mean_tpr /= n_classes\n",
    "\n",
    "fpr[\"macro\"] = all_fpr\n",
    "tpr[\"macro\"] = mean_tpr\n",
    "roc_auc[\"macro\"] = auc(fpr[\"macro\"], tpr[\"macro\"])\n",
    "\n",
    "# Plot all ROC curves\n",
    "plt.figure(figsize=(8,8))\n",
    "plt.plot(fpr[\"micro\"], tpr[\"micro\"],\n",
    "         label='micro-average ROC curve (area = {0:0.2f})'\n",
    "               ''.format(roc_auc[\"micro\"]),\n",
    "         color='deeppink', linestyle=':', linewidth=4)\n",
    "\n",
    "plt.plot(fpr[\"macro\"], tpr[\"macro\"],\n",
    "         label='macro-average ROC curve (area = {0:0.2f})'\n",
    "               ''.format(roc_auc[\"macro\"]),\n",
    "         color='navy', linestyle=':', linewidth=4)\n",
    "\n",
    "#colors = cycle(['aqua', 'darkorange', 'cornflowerblue'])\n",
    "#for i, color in zip(range(3), colors):\n",
    "#    plt.plot(fpr[i], tpr[i], color=color, lw=lw,\n",
    "#             label='ROC curve of class {0} (area = {1:0.2f})'\n",
    "#             ''.format(i, roc_auc[i]))\n",
    "\n",
    "\n",
    "plt.plot([0, 1], [0, 1], 'k--', lw=lw)\n",
    "plt.xlim([0.0, 1.0])\n",
    "plt.ylim([0.0, 1.05])\n",
    "plt.xlabel('False Positive Rate')\n",
    "plt.ylabel('True Positive Rate')\n",
    "plt.title('ROC curve for test set')\n",
    "plt.legend(loc=\"lower right\")\n",
    "plt.show()"
   ]
  },
  {
   "cell_type": "markdown",
   "metadata": {},
   "source": [
    "## Doc2vec"
   ]
  },
  {
   "cell_type": "markdown",
   "metadata": {},
   "source": [
    "### Make Labeled sentence"
   ]
  },
  {
   "cell_type": "code",
   "execution_count": 11,
   "metadata": {},
   "outputs": [
    {
     "name": "stdout",
     "output_type": "stream",
     "text": [
      "the number of tagged documnet : 22620\n"
     ]
    }
   ],
   "source": [
    "# labeled sentence 생성\n",
    "from gensim.models.doc2vec import LabeledSentence, Doc2Vec, TaggedDocument\n",
    "\n",
    "# make Taggeddocument list (this is for training doc2vec model)\n",
    "doc=[TaggedDocument(question, [code]) for question, code in list(zip(train.q_phrase, train.code))]\n",
    "print('the number of tagged documnet :',len(doc))"
   ]
  },
  {
   "cell_type": "markdown",
   "metadata": {},
   "source": [
    "### Doc2vec modeling"
   ]
  },
  {
   "cell_type": "code",
   "execution_count": 12,
   "metadata": {},
   "outputs": [
    {
     "name": "stdout",
     "output_type": "stream",
     "text": [
      "Training model...\n",
      "Wall time: 10.6 s\n"
     ]
    }
   ],
   "source": [
    "%%time\n",
    "\n",
    "print('Training model...')\n",
    "\n",
    "# modeling\n",
    "model = Doc2Vec(doc, dm=0, dm_mean=0, alpha=0.1, size= 300, window = 3, min_count = 1, workers=4, seed = 42, iter=7, hs=1,negative=3)#1)#,negative=3)\n",
    "\n",
    "#model = Doc2Vec(doc, alpha=0.1, size= 300, window = 6, min_count = 1, workers=4, seed = 42, iter=5, hs=1,negative=3)\n",
    "#model = Doc2Vec(doc, alpha=0.01, size= 300, window = 15, min_count = 3, workers=-1, seed = 42, iter=20, hs=1,negative=5)\n",
    "#model = Doc2Vec(doc, dm=1, dm_mean=1,alpha=0.1, size= 300, window =6 , min_count = 12, workers=4, seed = 42, iter=9, hs=1,negative=3)"
   ]
  },
  {
   "cell_type": "markdown",
   "metadata": {},
   "source": [
    "### get infer vector"
   ]
  },
  {
   "cell_type": "code",
   "execution_count": 109,
   "metadata": {},
   "outputs": [],
   "source": [
    "# get only embeded vector information\n",
    "def get_infer_vector():   \n",
    "    train_list=list(train.q_phrase)\n",
    "    test_list=list(test.q_phrase)\n",
    "    \n",
    "    train_vec=[]\n",
    "    test_vec=[]\n",
    "    \n",
    "    for i in train_list:\n",
    "        model.random.seed(23)\n",
    "        train_vec.append(model.infer_vector(i,alpha=0.001))\n",
    "    for j in test_list:\n",
    "        model.random.seed(23)\n",
    "        test_vec.append(model.infer_vector(j,alpha=0.001))\n",
    "    \n",
    "    print('train vector len :',len(train_vec))\n",
    "    print('test vector len :',len(test_vec))\n",
    "    \n",
    "    return train_vec,test_vec"
   ]
  },
  {
   "cell_type": "code",
   "execution_count": 110,
   "metadata": {},
   "outputs": [
    {
     "name": "stdout",
     "output_type": "stream",
     "text": [
      "get embedded vectors ... \n",
      "\n",
      "train vector len : 22620\n",
      "test vector len : 5655\n",
      "Wall time: 12.1 s\n"
     ]
    }
   ],
   "source": [
    "%%time\n",
    "print('get embedded vectors ... \\n')\n",
    "train_vec,test_vec=get_infer_vector()"
   ]
  },
  {
   "cell_type": "markdown",
   "metadata": {},
   "source": [
    "### visualization"
   ]
  },
  {
   "cell_type": "code",
   "execution_count": 49,
   "metadata": {},
   "outputs": [],
   "source": [
    "def tsne_plot(model):\n",
    "    labels = list(test.code)[:200]\n",
    "    tokens = test_vec[:200]\n",
    "    \n",
    "    tsne_model = TSNE(perplexity=40, n_components=2, init='pca', n_iter=2500, random_state=23)\n",
    "    new_values = tsne_model.fit_transform(tokens)\n",
    "\n",
    "    x = []\n",
    "    y = []\n",
    "    for value in new_values:\n",
    "        x.append(value[0])\n",
    "        y.append(value[1])\n",
    "        \n",
    "    plt.figure(figsize=(16, 16)) \n",
    "    for i in range(len(x)):\n",
    "        plt.scatter(x[i],y[i])\n",
    "        plt.annotate(labels[i],\n",
    "                     xy=(x[i], y[i]),\n",
    "                     xytext=(5, 2),\n",
    "                     textcoords='offset points',\n",
    "                     ha='right',\n",
    "                     va='bottom')"
   ]
  },
  {
   "cell_type": "markdown",
   "metadata": {},
   "source": [
    "### Doc2vec evaluation metrics - Top-n accuracy"
   ]
  },
  {
   "cell_type": "code",
   "execution_count": 62,
   "metadata": {},
   "outputs": [
    {
     "name": "stdout",
     "output_type": "stream",
     "text": [
      "Accuracy based on cosine similarity ranking (top 5) \n",
      "\n",
      "test set accuracy :  0.6721485411140583\n"
     ]
    }
   ],
   "source": [
    "# 유사 영화 코드를 찾고, 정확도를 구함 \n",
    "# get similar movie code (x)\n",
    "def get_similar_code(test_vec):\n",
    "    model.random.seed(23)\n",
    "    sims = model.docvecs.most_similar([test_vec],topn=10)\n",
    "    sim_code = [code for code, sim in sims]\n",
    "    return sim_code\n",
    "\n",
    "def get_acc(test,n):\n",
    "    sim_code=list(pd.Series(test_vec).apply(get_similar_code))\n",
    "    code_list=list(test.code)\n",
    "    acc=[code_list[i] in sim_code[i][:n] for i in range(len(sim_code))]\n",
    "    return (sum(acc)/len(acc))\n",
    "\n",
    "print('Accuracy based on cosine similarity ranking (top 5) \\n')\n",
    "print('test set accuracy : ',get_acc(test,5))"
   ]
  },
  {
   "cell_type": "markdown",
   "metadata": {},
   "source": [
    "### top5-10"
   ]
  },
  {
   "cell_type": "code",
   "execution_count": 54,
   "metadata": {},
   "outputs": [],
   "source": [
    "result=[get_acc(test,i) for i in range(1,11)]"
   ]
  },
  {
   "cell_type": "code",
   "execution_count": 107,
   "metadata": {},
   "outputs": [
    {
     "data": {
      "text/plain": [
       "0.657471264367816"
      ]
     },
     "execution_count": 107,
     "metadata": {},
     "output_type": "execute_result"
    }
   ],
   "source": [
    "np.mean(result)"
   ]
  },
  {
   "cell_type": "code",
   "execution_count": 97,
   "metadata": {},
   "outputs": [
    {
     "data": {
      "text/plain": [
       "Text(0,0.5,'Accuracy')"
      ]
     },
     "execution_count": 97,
     "metadata": {},
     "output_type": "execute_result"
    },
    {
     "data": {
      "image/png": "[encoded data removed]",
      "text/plain": [
       "<matplotlib.figure.Figure at 0x1ad9b9325f8>"
      ]
     },
     "metadata": {},
     "output_type": "display_data"
    }
   ],
   "source": [
    "plt.title('Top-n accuracy')\n",
    "plt.plot(range(1,11),result)\n",
    "plt.xlabel('Top-n')\n",
    "plt.ylabel('Accuracy')"
   ]
  },
  {
   "cell_type": "markdown",
   "metadata": {},
   "source": [
    "### Doc2vec evaluation metrics - Roc curve"
   ]
  },
  {
   "cell_type": "code",
   "execution_count": 19,
   "metadata": {},
   "outputs": [],
   "source": [
    "from sklearn.preprocessing import label_binarize\n",
    "from sklearn.metrics import roc_curve, auc\n",
    "from sklearn import metrics\n",
    "from itertools import cycle\n",
    "from scipy import interp\n",
    "\n",
    "# doc2vec에 임베딩된 테스트셋 벡터를 이용하여 그와 유사한 모든 영화 코드, 유사도를 numpy array 형태로 구함\n",
    "# Using Doc2vec model embedded testset vectors, get code and similarity result of other movie in numpy array form \n",
    "def get_similarity_matrix(test):\n",
    "    uniq_category=test.code.unique() \n",
    "    return_all_similarity_result=lambda x: dict(model.docvecs.most_similar([x],topn=len(uniq_category)))\n",
    "     \n",
    "    sim_dic=pd.Series(test_vec).apply(return_all_similarity_result)\n",
    "    matrix =[np.array(pd.Series(uniq_category).map(i)) for i in sim_dic]\n",
    "    \n",
    "    return np.array(matrix)"
   ]
  },
  {
   "cell_type": "code",
   "execution_count": 20,
   "metadata": {},
   "outputs": [],
   "source": [
    "%%time\n",
    "\n",
    "sim_matrix=get_similarity_matrix(test)\n",
    "\n",
    "# normalize\n",
    "res=[sim_matrix[i]/np.sum(sim_matrix,axis=1)[i] for i in range(sim_matrix.shape[0])]\n",
    "sim_test=np.array(res).reshape(sim_matrix.shape[0],-1)"
   ]
  },
  {
   "cell_type": "code",
   "execution_count": 22,
   "metadata": {},
   "outputs": [
    {
     "name": "stdout",
     "output_type": "stream",
     "text": [
      "the number of questions in test set :  5655\n",
      "the number of unique movie code in test set :  2021\n",
      "dimension of label after one-hot-encoding :  (5655, 2021)\n"
     ]
    }
   ],
   "source": [
    "uniq_category=test.code.unique()\n",
    "n_classes=len(uniq_category)\n",
    "\n",
    "# one-hot-encoding testset movie code\n",
    "label_y=label_binarize(np.array(test.code),classes=uniq_category,)\n",
    "\n",
    "print('the number of questions in test set : ',len(test))\n",
    "print('the number of unique movie code in test set : ',n_classes)\n",
    "print('dimension of label after one-hot-encoding : ',label_y.shape)"
   ]
  },
  {
   "cell_type": "code",
   "execution_count": null,
   "metadata": {},
   "outputs": [],
   "source": [
    "# Compute ROC curve and ROC area for each class\n",
    "fpr = dict()\n",
    "tpr = dict()\n",
    "roc_auc = dict()\n",
    "th=dict()\n",
    "for i in range(n_classes):\n",
    "    fpr[i], tpr[i], th[i] = roc_curve(label_y[:, i], sim_matrix[:, i])\n",
    "    roc_auc[i] = auc(fpr[i], tpr[i])\n",
    "\n",
    "# Compute micro-average ROC curve and ROC area\n",
    "fpr[\"micro\"], tpr[\"micro\"], _ = roc_curve(label_y.ravel(), sim_matrix.ravel())\n",
    "roc_auc[\"micro\"] = auc(fpr[\"micro\"], tpr[\"micro\"])"
   ]
  },
  {
   "cell_type": "raw",
   "metadata": {},
   "source": [
    "'micro':\n",
    "Calculate metrics globally by counting the total true positives, false negatives and false positives.\n",
    "\n",
    "'macro':\n",
    "Calculate metrics for each label, and find their unweighted mean. This does not take label imbalance into account."
   ]
  },
  {
   "cell_type": "code",
   "execution_count": 85,
   "metadata": {},
   "outputs": [
    {
     "data": {
      "image/png": "[encoded data removed]",
      "text/plain": [
       "<matplotlib.figure.Figure at 0x26602aebc18>"
      ]
     },
     "metadata": {},
     "output_type": "display_data"
    }
   ],
   "source": [
    "# Compute macro-average ROC curve and ROC area\n",
    "# First aggregate all false positive rates\n",
    "all_fpr = np.unique(np.concatenate([fpr[i] for i in range(n_classes)]))\n",
    "lw=2\n",
    "# Then interpolate all ROC curves at this points\n",
    "mean_tpr = np.zeros_like(all_fpr)\n",
    "for i in range(n_classes):\n",
    "    mean_tpr += interp(all_fpr, fpr[i], tpr[i])\n",
    "\n",
    "# Finally average it and compute AUC\n",
    "mean_tpr /= n_classes\n",
    "\n",
    "fpr[\"macro\"] = all_fpr\n",
    "tpr[\"macro\"] = mean_tpr\n",
    "roc_auc[\"macro\"] = auc(fpr[\"macro\"], tpr[\"macro\"])\n",
    "\n",
    "# Plot all ROC curves\n",
    "plt.figure(figsize=(10,10))\n",
    "plt.plot(fpr[\"micro\"], tpr[\"micro\"],\n",
    "         label='micro-average ROC curve (area = {0:0.2f})'\n",
    "               ''.format(roc_auc[\"micro\"]),\n",
    "         color='deeppink', linestyle=':', linewidth=4)\n",
    "\n",
    "plt.plot(fpr[\"macro\"], tpr[\"macro\"],\n",
    "         label='macro-average ROC curve (area = {0:0.2f})'\n",
    "               ''.format(roc_auc[\"macro\"]),\n",
    "         color='navy', linestyle=':', linewidth=4)\n",
    "\n",
    "plt.plot([0, 1], [0, 1], 'k--', lw=lw)\n",
    "plt.xlim([0.0, 1.0])\n",
    "plt.ylim([0.0, 1.05])\n",
    "plt.xlabel('False Positive Rate')\n",
    "plt.ylabel('True Positive Rate')\n",
    "plt.title('ROC curve for test set')\n",
    "plt.legend(loc=\"lower right\")"
   ]
  },
  {
   "cell_type": "markdown",
   "metadata": {},
   "source": [
    "### another trial for roc curve"
   ]
  },
  {
   "cell_type": "code",
   "execution_count": 204,
   "metadata": {},
   "outputs": [],
   "source": [
    "def another_roc(label_y,sim_matrix):\n",
    "    result=label_y*sim_matrix\n",
    "    y_true=test.code\n",
    "    y_score=np.sum(result, axis=1)\n",
    "    \n",
    "    sim_test=sim_matrix/np.sum(sim_matrix,axis=0)\n",
    "\n",
    "    true_index=[np.argmax(result[i]) for i in range(result.shape[0])]\n",
    "    \n",
    "    auc_list=[]\n",
    "    for i in range(result.shape[0]):\n",
    "        fpr, tpr, thresholds = roc_curve(y_true.unique(), sim_test[i], pos_label=y_true.unique()[true_index[i]]  )\n",
    "        #plt.plot(fpr,tpr)\n",
    "        auc_list.append(metrics.auc(fpr, tpr))\n",
    "        \n",
    "    return auc_list"
   ]
  },
  {
   "cell_type": "code",
   "execution_count": 205,
   "metadata": {},
   "outputs": [],
   "source": [
    "al=another_roc(label_y,sim_matrix)"
   ]
  },
  {
   "cell_type": "markdown",
   "metadata": {},
   "source": [
    "### precision recall curve"
   ]
  },
  {
   "cell_type": "code",
   "execution_count": 113,
   "metadata": {},
   "outputs": [],
   "source": [
    "from sklearn.metrics import f1_score\n",
    "from sklearn.metrics import precision_score\n",
    "from sklearn.metrics import recall_score\n",
    "\n",
    "def get_f1_score_max():\n",
    "\n",
    "    fscore=[]\n",
    "    pscore=[]\n",
    "    rscore=[]\n",
    "    # this is threshold\n",
    "    thr=np.arange(0,np.max(sim_test),0.0001)\n",
    "    \n",
    "    for i in thr:    \n",
    "        ytr=label_y\n",
    "        ypr=np.where(sim_test>=i,1,0)\n",
    "        fscore.append(f1_score(ytr,ypr,average='micro'))\n",
    "        pscore.append(precision_score(ytr,ypr,average='micro'))\n",
    "        rscore.append(recall_score(ytr,ypr,average='micro'))\n",
    "    return fscore,pscore,rscore"
   ]
  },
  {
   "cell_type": "code",
   "execution_count": 114,
   "metadata": {},
   "outputs": [],
   "source": [
    "fscore,pscore,rscore=get_f1_score_max()\n",
    "\n",
    "thr=np.arange(0,np.max(sim_test),0.0001)"
   ]
  },
  {
   "cell_type": "code",
   "execution_count": 143,
   "metadata": {},
   "outputs": [
    {
     "data": {
      "text/plain": [
       "[<matplotlib.lines.Line2D at 0x24984255630>]"
      ]
     },
     "execution_count": 143,
     "metadata": {},
     "output_type": "execute_result"
    },
    {
     "data": {
      "image/png": "[encoded data removed]",
      "text/plain": [
       "<matplotlib.figure.Figure at 0x249841b2978>"
      ]
     },
     "metadata": {},
     "output_type": "display_data"
    }
   ],
   "source": [
    "plt.figure(figsize=(8,6))\n",
    "plt.title('Precision, Recall, F1-score',fontsize=15)\n",
    "plt.plot(thr,fscore)\n",
    "plt.plot(thr,pscore)\n",
    "plt.plot(thr,rscore)"
   ]
  },
  {
   "cell_type": "code",
   "execution_count": 176,
   "metadata": {},
   "outputs": [
    {
     "name": "stdout",
     "output_type": "stream",
     "text": [
      "Average precision score, micro-averaged over all classes: 0.15\n"
     ]
    }
   ],
   "source": [
    "from sklearn.metrics import precision_recall_curve\n",
    "from sklearn.metrics import average_precision_score\n",
    "\n",
    "# For each class\n",
    "precision = dict()\n",
    "recall = dict()\n",
    "average_precision = dict()\n",
    "for i in range(n_classes):\n",
    "    precision[i], recall[i], _ = precision_recall_curve(label_y[:, i], sim_test[:, i])\n",
    "    average_precision[i] = average_precision_score(label_y[:, i], sim_test[:, i])\n",
    "\n",
    "# A \"micro-average\": quantifying score on all classes jointly\n",
    "precision[\"micro\"], recall[\"micro\"], _ = precision_recall_curve(label_y.ravel(),\n",
    "    sim_test.ravel())\n",
    "average_precision[\"micro\"] = average_precision_score(label_y, sim_test,\n",
    "                                                     average=\"micro\")\n",
    "print('Average precision score, micro-averaged over all classes: {0:0.2f}'\n",
    "      .format(average_precision[\"micro\"]))"
   ]
  },
  {
   "cell_type": "code",
   "execution_count": 193,
   "metadata": {},
   "outputs": [
    {
     "data": {
      "text/plain": [
       "Text(0.5,1,'Average precision score, micro-averaged over all classes: AP=0.15')"
      ]
     },
     "execution_count": 193,
     "metadata": {},
     "output_type": "execute_result"
    },
    {
     "data": {
      "image/png": "[encoded data removed]",
      "text/plain": [
       "<matplotlib.figure.Figure at 0x26602ae19e8>"
      ]
     },
     "metadata": {},
     "output_type": "display_data"
    }
   ],
   "source": [
    "plt.figure(figsize=(8,8))\n",
    "plt.step(recall['micro'], precision['micro'], color='b', alpha=0.2,\n",
    "         where='post')\n",
    "plt.fill_between(recall[\"micro\"], precision[\"micro\"], step='post', alpha=0.2,\n",
    "                 color='b')\n",
    "\n",
    "plt.xlabel('Recall')\n",
    "plt.ylabel('Precision')\n",
    "plt.ylim([0.0, 1.05])\n",
    "plt.xlim([0.0, 1.0])\n",
    "plt.title(\n",
    "    'Average precision score, micro-averaged over all classes: AP={0:0.2f}'\n",
    "    .format(average_precision[\"micro\"]))"
   ]
  }
 ],
 "metadata": {
  "kernelspec": {
   "display_name": "Python 3",
   "language": "python",
   "name": "python3"
  },
  "language_info": {
   "codemirror_mode": {
    "name": "ipython",
    "version": 3
   },
   "file_extension": ".py",
   "mimetype": "text/x-python",
   "name": "python",
   "nbconvert_exporter": "python",
   "pygments_lexer": "ipython3",
   "version": "3.6.7"
  },
  "toc": {
   "base_numbering": 1,
   "nav_menu": {},
   "number_sections": true,
   "sideBar": true,
   "skip_h1_title": true,
   "title_cell": "Table of Contents",
   "title_sidebar": "Contents",
   "toc_cell": true,
   "toc_position": {
    "height": "calc(100% - 180px)",
    "left": "10px",
    "top": "150px",
    "width": "307.2px"
   },
   "toc_section_display": true,
   "toc_window_display": true
  },
  "toc-autonumbering": true,
  "toc-showmarkdowntxt": false,
  "varInspector": {
   "cols": {
    "lenName": 16,
    "lenType": 16,
    "lenVar": 40
   },
   "kernels_config": {
    "python": {
     "delete_cmd_postfix": "",
     "delete_cmd_prefix": "del ",
     "library": "var_list.py",
     "varRefreshCmd": "print(var_dic_list())"
    },
    "r": {
     "delete_cmd_postfix": ") ",
     "delete_cmd_prefix": "rm(",
     "library": "var_list.r",
     "varRefreshCmd": "cat(var_dic_list()) "
    }
   },
   "types_to_exclude": [
    "module",
    "function",
    "builtin_function_or_method",
    "instance",
    "_Feature"
   ],
   "window_display": false
  }
 },
 "nbformat": 4,
 "nbformat_minor": 2
}
